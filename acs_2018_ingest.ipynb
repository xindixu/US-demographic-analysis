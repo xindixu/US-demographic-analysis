{
 "cells": [
  {
   "cell_type": "markdown",
   "metadata": {},
   "source": [
    "### Ingest dataset from acs-2018-deleted-row"
   ]
  },
  {
   "cell_type": "code",
   "execution_count": 5,
   "metadata": {},
   "outputs": [],
   "source": [
    "dataset_id = \"acs_2018_deleted_row\""
   ]
  },
  {
   "cell_type": "code",
   "execution_count": 6,
   "metadata": {},
   "outputs": [
    {
     "name": "stdout",
     "output_type": "stream",
     "text": [
      "BigQuery error in mk operation: Dataset 'sashimi-266523:acs_2018_deleted_row'\n",
      "already exists.\n"
     ]
    }
   ],
   "source": [
    "!bq --location=US mk --dataset {dataset_id}"
   ]
  },
  {
   "cell_type": "code",
   "execution_count": 16,
   "metadata": {},
   "outputs": [
    {
     "name": "stdout",
     "output_type": "stream",
     "text": [
      "Waiting on bqjob_r2843801b84733c56_000001701dc04e25_1 ... (34s) Current status: DONE   \n"
     ]
    }
   ],
   "source": [
    "!bq --location=US load --autodetect --null_marker=\"(X)\" --skip_leading_rows=1 --allow_quoted_newlines \\\n",
    "--source_format=CSV {dataset_id}.economics 'gs://acs-2018-deleted-row/economics.csv'"
   ]
  },
  {
   "cell_type": "code",
   "execution_count": 17,
   "metadata": {},
   "outputs": [
    {
     "name": "stdout",
     "output_type": "stream",
     "text": [
      "Waiting on bqjob_r7dbf2903b7bccc8e_000001701dc7329b_1 ... (34s) Current status: DONE   \n"
     ]
    }
   ],
   "source": [
    "!bq --location=US load --autodetect --null_marker=\"(X)\" --skip_leading_rows=1 --allow_quoted_newlines \\\n",
    "--source_format=CSV {dataset_id}.housing 'gs://acs-2018-deleted-row/housing.csv'"
   ]
  },
  {
   "cell_type": "code",
   "execution_count": 18,
   "metadata": {},
   "outputs": [
    {
     "name": "stdout",
     "output_type": "stream",
     "text": [
      "Waiting on bqjob_r394e0e9fddc314ee_000001701dc84a3a_1 ... (23s) Current status: DONE   \n"
     ]
    }
   ],
   "source": [
    "!bq --location=US load --autodetect --null_marker=\"(X)\" --skip_leading_rows=1 --allow_quoted_newlines \\\n",
    "--source_format=CSV {dataset_id}.school_enrollment 'gs://acs-2018-deleted-row/school_enrollment.csv'"
   ]
  },
  {
   "cell_type": "code",
   "execution_count": 20,
   "metadata": {},
   "outputs": [
    {
     "name": "stdout",
     "output_type": "stream",
     "text": [
      "Waiting on bqjob_r6a746ffce245233d_000001701dcb5eab_1 ... (23s) Current status: DONE   \n"
     ]
    }
   ],
   "source": [
    "!bq --location=US load --autodetect --null_marker=null --skip_leading_rows=1 --allow_quoted_newlines \\\n",
    "--source_format=CSV {dataset_id}.work 'gs://acs-2018-deleted-row/work.csv'"
   ]
  },
  {
   "cell_type": "code",
   "execution_count": null,
   "metadata": {},
   "outputs": [],
   "source": []
  }
 ],
 "metadata": {
  "kernelspec": {
   "display_name": "Python 3",
   "language": "python",
   "name": "python3"
  },
  "language_info": {
   "codemirror_mode": {
    "name": "ipython",
    "version": 3
   },
   "file_extension": ".py",
   "mimetype": "text/x-python",
   "name": "python",
   "nbconvert_exporter": "python",
   "pygments_lexer": "ipython3",
   "version": "3.5.3"
  }
 },
 "nbformat": 4,
 "nbformat_minor": 4
}
