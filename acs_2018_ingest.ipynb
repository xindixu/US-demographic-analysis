{
 "cells": [
  {
   "cell_type": "markdown",
   "metadata": {},
   "source": [
    "### Ingest dataset from acs-2018-deleted-row"
   ]
  },
  {
   "cell_type": "code",
   "execution_count": 5,
   "metadata": {},
   "outputs": [],
   "source": [
    "dataset_id = \"acs_2018_deleted_row\""
   ]
  },
  {
   "cell_type": "code",
   "execution_count": 6,
   "metadata": {},
   "outputs": [
    {
     "name": "stdout",
     "output_type": "stream",
     "text": [
      "BigQuery error in mk operation: Dataset 'sashimi-266523:acs_2018_deleted_row'\n",
      "already exists.\n"
     ]
    }
   ],
   "source": [
    "!bq --location=US mk --dataset {dataset_id}"
   ]
  },
  {
   "cell_type": "code",
   "execution_count": 16,
   "metadata": {},
   "outputs": [
    {
     "name": "stdout",
     "output_type": "stream",
     "text": [
      "Waiting on bqjob_r2843801b84733c56_000001701dc04e25_1 ... (34s) Current status: DONE   \n"
     ]
    }
   ],
   "source": [
    "!bq --location=US load --autodetect --null_marker=\"(X)\" --skip_leading_rows=1 --allow_quoted_newlines \\\n",
    "--source_format=CSV {dataset_id}.economics 'gs://acs-2018-deleted-row/economics.csv'"
   ]
  },
  {
   "cell_type": "code",
   "execution_count": 9,
   "metadata": {},
   "outputs": [
    {
     "name": "stdout",
     "output_type": "stream",
     "text": [
      "Waiting on bqjob_r60a76aa09c555f29_000001700ded8a67_1 ... (1s) Current status: DONE   \n",
      "BigQuery error in load operation: Error processing job\n",
      "'sashimi-266523:bqjob_r60a76aa09c555f29_000001700ded8a67_1': Error while reading\n",
      "data, error message: CSV table encountered too many errors, giving up. Rows:\n",
      "672; errors: 1. Please look into the errors[] collection for more details.\n",
      "Failure details:\n",
      "- gs://yelp_csv_data/business.csv: Error while reading data, error\n",
      "message: Could not parse 'None' as bool for field attributes_HasTV\n",
      "(position 44) starting at location 542577\n"
     ]
    }
   ],
   "source": []
  },
  {
   "cell_type": "markdown",
   "metadata": {},
   "source": [
    "(population 16 +): Employement status, Communiting to work, Occupation, Industry"
   ]
  },
  {
   "cell_type": "code",
   "execution_count": null,
   "metadata": {},
   "outputs": [],
   "source": [
    "%%bigquery\n",
    "select DP03_0002PE, DP03_0018E, DP03_0026E, DP03_0033E\n",
    "\n",
    "\n",
    "\n"
   ]
  }
 ],
 "metadata": {
  "kernelspec": {
   "display_name": "Python 3",
   "language": "python",
   "name": "python3"
  },
  "language_info": {
   "codemirror_mode": {
    "name": "ipython",
    "version": 3
   },
   "file_extension": ".py",
   "mimetype": "text/x-python",
   "name": "python",
   "nbconvert_exporter": "python",
   "pygments_lexer": "ipython3",
   "version": "3.5.3"
  }
 },
 "nbformat": 4,
 "nbformat_minor": 4
}
