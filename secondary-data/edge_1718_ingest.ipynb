{
 "cells": [
  {
   "cell_type": "code",
   "execution_count": 1,
   "metadata": {},
   "outputs": [],
   "source": [
    "dataset_id = \"edge_1718_staging\""
   ]
  },
  {
   "cell_type": "code",
   "execution_count": 2,
   "metadata": {},
   "outputs": [
    {
     "name": "stdout",
     "output_type": "stream",
     "text": [
      "Dataset 'sashimi-266523:edge_1718_staging' successfully created.\n"
     ]
    }
   ],
   "source": [
    "!bq --location=US mk --dataset {dataset_id}"
   ]
  },
  {
   "cell_type": "code",
   "execution_count": 23,
   "metadata": {},
   "outputs": [
    {
     "name": "stdout",
     "output_type": "stream",
     "text": [
      "Waiting on bqjob_r228cb1dfdaacc137_00000171860e61ee_1 ... (0s) Current status: DONE   \n",
      "BigQuery error in load operation: Error processing job\n",
      "'sashimi-266523:bqjob_r228cb1dfdaacc137_00000171860e61ee_1': Error while reading\n",
      "data, error message: CSV table encountered too many errors, giving up. Rows:\n",
      "671; errors: 1. Please look into the errors[] collection for more details.\n",
      "Failure details:\n",
      "- gs://edge-geocode-1718/EDGE_GEOCODE_POSTSECSCH_1718.csv: Error\n",
      "while reading data, error message: Could not parse '75700' as bool\n",
      "for field NECTA (position 17) starting at location 148552\n"
     ]
    }
   ],
   "source": [
    "!bq --location=US load --autodetect --null_marker='2759B' --ignore_unknown_values \\\n",
    "--source_format=CSV {dataset_id}.postsecondary_school 'gs://edge-geocode-1718/EDGE_GEOCODE_POSTSECSCH_1718.csv'"
   ]
  },
  {
   "cell_type": "code",
   "execution_count": null,
   "metadata": {},
   "outputs": [],
   "source": []
  }
 ],
 "metadata": {
  "kernelspec": {
   "display_name": "Python 3",
   "language": "python",
   "name": "python3"
  },
  "language_info": {
   "codemirror_mode": {
    "name": "ipython",
    "version": 3
   },
   "file_extension": ".py",
   "mimetype": "text/x-python",
   "name": "python",
   "nbconvert_exporter": "python",
   "pygments_lexer": "ipython3",
   "version": "3.5.3"
  }
 },
 "nbformat": 4,
 "nbformat_minor": 4
}
