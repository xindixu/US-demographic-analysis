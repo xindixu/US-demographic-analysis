{
 "cells": [
  {
   "cell_type": "code",
   "execution_count": 1,
   "metadata": {},
   "outputs": [],
   "source": [
    "dataset_id = \"edge_1718_staging\""
   ]
  },
  {
   "cell_type": "code",
   "execution_count": 2,
   "metadata": {},
   "outputs": [
    {
     "name": "stdout",
     "output_type": "stream",
     "text": [
      "Dataset 'sashimi-266523:edge_1718_staging' successfully created.\n"
     ]
    }
   ],
   "source": [
    "!bq --location=US mk --dataset {dataset_id}"
   ]
  },
  {
   "cell_type": "code",
   "execution_count": 26,
   "metadata": {},
   "outputs": [
    {
     "name": "stdout",
     "output_type": "stream",
     "text": [
      "Waiting on bqjob_r5c5bc6231ef59272_00000171861ffbe2_1 ... (1s) Current status: DONE   \n"
     ]
    }
   ],
   "source": [
    "!bq --location=US load --skip_leading_rows=1 \\\n",
    "--source_format=CSV {dataset_id}.postsecondary_school \\\n",
    "'gs://edge-geocode-1718/EDGE_GEOCODE_POSTSECSCH_1718.csv' \\\n",
    "/home/jupyter/sashimi/secondary-data/edge_schema.json"
   ]
  },
  {
   "cell_type": "code",
   "execution_count": null,
   "metadata": {},
   "outputs": [],
   "source": [
    "!bq --location=US load --skip_leading_rows=1 \\\n",
    "--source_format=CSV {dataset_id}.private_school \\\n",
    "'gs://edge-geocode-1718/EDGE_GEOCODE_PRIVATESCH_1718.csv' \\\n",
    "/home/jupyter/sashimi/secondary-data/edge_private_schema.json"
   ]
  },
  {
   "cell_type": "code",
   "execution_count": null,
   "metadata": {},
   "outputs": [],
   "source": [
    "!bq --location=US load --skip_leading_rows=1 \\\n",
    "--source_format=CSV {dataset_id}.public_school \\\n",
    "'gs://edge-geocode-1718/ EDGE_GEOCODE_PUBLICSCH_1718.csv' \\\n",
    "/home/jupyter/sashimi/secondary-data/edge_public_schema.json"
   ]
  }
 ],
 "metadata": {
  "kernelspec": {
   "display_name": "Python 3",
   "language": "python",
   "name": "python3"
  },
  "language_info": {
   "codemirror_mode": {
    "name": "ipython",
    "version": 3
   },
   "file_extension": ".py",
   "mimetype": "text/x-python",
   "name": "python",
   "nbconvert_exporter": "python",
   "pygments_lexer": "ipython3",
   "version": "3.5.3"
  }
 },
 "nbformat": 4,
 "nbformat_minor": 4
}
