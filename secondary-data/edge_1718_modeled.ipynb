{
 "cells": [
  {
   "cell_type": "markdown",
   "metadata": {},
   "source": [
    "## EDGE GEOCODE 2017-2018 Modeled"
   ]
  },
  {
   "cell_type": "code",
   "execution_count": 1,
   "metadata": {},
   "outputs": [],
   "source": [
    "dataset_id = \"edge_1718_modeled\""
   ]
  },
  {
   "cell_type": "code",
   "execution_count": 2,
   "metadata": {},
   "outputs": [
    {
     "name": "stdout",
     "output_type": "stream",
     "text": [
      "Dataset 'sashimi-266523:edge_1718_modeled' successfully created.\n"
     ]
    }
   ],
   "source": [
    "!bq --location=US mk --dataset {dataset_id}"
   ]
  },
  {
   "cell_type": "markdown",
   "metadata": {},
   "source": [
    "#### Create postsecondary_school table with necessary columns"
   ]
  },
  {
   "cell_type": "code",
   "execution_count": 7,
   "metadata": {},
   "outputs": [
    {
     "data": {
      "text/html": [
       "<div>\n",
       "<style scoped>\n",
       "    .dataframe tbody tr th:only-of-type {\n",
       "        vertical-align: middle;\n",
       "    }\n",
       "\n",
       "    .dataframe tbody tr th {\n",
       "        vertical-align: top;\n",
       "    }\n",
       "\n",
       "    .dataframe thead th {\n",
       "        text-align: right;\n",
       "    }\n",
       "</style>\n",
       "<table border=\"1\" class=\"dataframe\">\n",
       "  <thead>\n",
       "    <tr style=\"text-align: right;\">\n",
       "      <th></th>\n",
       "    </tr>\n",
       "  </thead>\n",
       "  <tbody>\n",
       "  </tbody>\n",
       "</table>\n",
       "</div>"
      ],
      "text/plain": [
       "Empty DataFrame\n",
       "Columns: []\n",
       "Index: []"
      ]
     },
     "execution_count": 7,
     "metadata": {},
     "output_type": "execute_result"
    }
   ],
   "source": [
    "%%bigquery\n",
    "create or replace table edge_1718_modeled.postsecondary_school as\n",
    "select UNITID as SCHOOLID, NAME, STREET, CITY, STATE, ZIP as ZIPCODE, cast(LAT as FLOAT64) as LATITUDE, cast(LON as FLOAT64) as LONGITUDE\n",
    "from edge_1718_staging.postsecondary_school\n",
    "order by ZIPCODE"
   ]
  },
  {
   "cell_type": "markdown",
   "metadata": {},
   "source": [
    "##### Check table"
   ]
  },
  {
   "cell_type": "code",
   "execution_count": 29,
   "metadata": {},
   "outputs": [
    {
     "data": {
      "text/html": [
       "<div>\n",
       "<style scoped>\n",
       "    .dataframe tbody tr th:only-of-type {\n",
       "        vertical-align: middle;\n",
       "    }\n",
       "\n",
       "    .dataframe tbody tr th {\n",
       "        vertical-align: top;\n",
       "    }\n",
       "\n",
       "    .dataframe thead th {\n",
       "        text-align: right;\n",
       "    }\n",
       "</style>\n",
       "<table border=\"1\" class=\"dataframe\">\n",
       "  <thead>\n",
       "    <tr style=\"text-align: right;\">\n",
       "      <th></th>\n",
       "      <th>SCHOOLID</th>\n",
       "      <th>NAME</th>\n",
       "      <th>STREET</th>\n",
       "      <th>CITY</th>\n",
       "      <th>STATE</th>\n",
       "      <th>ZIPCODE</th>\n",
       "      <th>LATITUDE</th>\n",
       "      <th>LONGITUDE</th>\n",
       "    </tr>\n",
       "  </thead>\n",
       "  <tbody>\n",
       "    <tr>\n",
       "      <th>0</th>\n",
       "      <td>445498</td>\n",
       "      <td>Colegio Tecnico de Electricidad Galloza</td>\n",
       "      <td>Carr 4416 Km 2.5 Int. Bo Laguna</td>\n",
       "      <td>Aguada</td>\n",
       "      <td>PR</td>\n",
       "      <td>00602</td>\n",
       "      <td>18.352602</td>\n",
       "      <td>-67.177147</td>\n",
       "    </tr>\n",
       "    <tr>\n",
       "      <th>1</th>\n",
       "      <td>446516</td>\n",
       "      <td>Rosslyn Training Academy of Cosmetology</td>\n",
       "      <td>Calle Paz 213</td>\n",
       "      <td>Aguada</td>\n",
       "      <td>PR</td>\n",
       "      <td>00602</td>\n",
       "      <td>18.379277</td>\n",
       "      <td>-67.187941</td>\n",
       "    </tr>\n",
       "    <tr>\n",
       "      <th>2</th>\n",
       "      <td>418755</td>\n",
       "      <td>Colegio Tecnologico y Comercial de Puerto Rico</td>\n",
       "      <td>Calle Paz 165 Altos</td>\n",
       "      <td>Aguada</td>\n",
       "      <td>PR</td>\n",
       "      <td>00602-0960</td>\n",
       "      <td>18.378655</td>\n",
       "      <td>-67.184110</td>\n",
       "    </tr>\n",
       "    <tr>\n",
       "      <th>3</th>\n",
       "      <td>242626</td>\n",
       "      <td>Inter American University of Puerto Rico-Aguad...</td>\n",
       "      <td>Carr. 459 Int. 463, Barrio Corrales Sector Calero</td>\n",
       "      <td>Aguadilla</td>\n",
       "      <td>PR</td>\n",
       "      <td>00603</td>\n",
       "      <td>18.467886</td>\n",
       "      <td>-67.121671</td>\n",
       "    </tr>\n",
       "    <tr>\n",
       "      <th>4</th>\n",
       "      <td>376385</td>\n",
       "      <td>Universal Technology College of Puerto Rico</td>\n",
       "      <td>111 Comercio St</td>\n",
       "      <td>Aguadilla</td>\n",
       "      <td>PR</td>\n",
       "      <td>00603</td>\n",
       "      <td>18.428120</td>\n",
       "      <td>-67.155628</td>\n",
       "    </tr>\n",
       "    <tr>\n",
       "      <th>5</th>\n",
       "      <td>443951</td>\n",
       "      <td>Charlie's Guard-Detective Bureau and Academy Inc</td>\n",
       "      <td>Road 107 Km 3.1 Bo. Borinquen</td>\n",
       "      <td>Aguadilla</td>\n",
       "      <td>PR</td>\n",
       "      <td>00603</td>\n",
       "      <td>18.469662</td>\n",
       "      <td>-67.153612</td>\n",
       "    </tr>\n",
       "    <tr>\n",
       "      <th>6</th>\n",
       "      <td>445984</td>\n",
       "      <td>Xtreme Career Institute</td>\n",
       "      <td>Calle Jose De jesus Esteves #7</td>\n",
       "      <td>Aguadilla</td>\n",
       "      <td>PR</td>\n",
       "      <td>00603</td>\n",
       "      <td>18.433052</td>\n",
       "      <td>-67.154452</td>\n",
       "    </tr>\n",
       "    <tr>\n",
       "      <th>7</th>\n",
       "      <td>243106</td>\n",
       "      <td>University of Puerto Rico-Aguadilla</td>\n",
       "      <td>Belt St. Ramey Base</td>\n",
       "      <td>Aguadilla</td>\n",
       "      <td>PR</td>\n",
       "      <td>00604-6150</td>\n",
       "      <td>18.498652</td>\n",
       "      <td>-67.137930</td>\n",
       "    </tr>\n",
       "    <tr>\n",
       "      <th>8</th>\n",
       "      <td>418782</td>\n",
       "      <td>Automeca Technical College-Aguadilla</td>\n",
       "      <td>Parque Industrial La Montana Km09 Edif932</td>\n",
       "      <td>Aguadilla</td>\n",
       "      <td>PR</td>\n",
       "      <td>00605</td>\n",
       "      <td>18.448502</td>\n",
       "      <td>-67.141800</td>\n",
       "    </tr>\n",
       "    <tr>\n",
       "      <th>9</th>\n",
       "      <td>242954</td>\n",
       "      <td>Modern Hairstyling Institute-Arecibo</td>\n",
       "      <td>Vista Azul Shopping Center #2 Km.80.0</td>\n",
       "      <td>Arecibo</td>\n",
       "      <td>PR</td>\n",
       "      <td>00612</td>\n",
       "      <td>18.475820</td>\n",
       "      <td>-66.754059</td>\n",
       "    </tr>\n",
       "  </tbody>\n",
       "</table>\n",
       "</div>"
      ],
      "text/plain": [
       "  SCHOOLID                                               NAME  \\\n",
       "0   445498            Colegio Tecnico de Electricidad Galloza   \n",
       "1   446516            Rosslyn Training Academy of Cosmetology   \n",
       "2   418755     Colegio Tecnologico y Comercial de Puerto Rico   \n",
       "3   242626  Inter American University of Puerto Rico-Aguad...   \n",
       "4   376385        Universal Technology College of Puerto Rico   \n",
       "5   443951   Charlie's Guard-Detective Bureau and Academy Inc   \n",
       "6   445984                            Xtreme Career Institute   \n",
       "7   243106                University of Puerto Rico-Aguadilla   \n",
       "8   418782               Automeca Technical College-Aguadilla   \n",
       "9   242954               Modern Hairstyling Institute-Arecibo   \n",
       "\n",
       "                                              STREET       CITY STATE  \\\n",
       "0                    Carr 4416 Km 2.5 Int. Bo Laguna     Aguada    PR   \n",
       "1                                      Calle Paz 213     Aguada    PR   \n",
       "2                                Calle Paz 165 Altos     Aguada    PR   \n",
       "3  Carr. 459 Int. 463, Barrio Corrales Sector Calero  Aguadilla    PR   \n",
       "4                                    111 Comercio St  Aguadilla    PR   \n",
       "5                      Road 107 Km 3.1 Bo. Borinquen  Aguadilla    PR   \n",
       "6                     Calle Jose De jesus Esteves #7  Aguadilla    PR   \n",
       "7                                Belt St. Ramey Base  Aguadilla    PR   \n",
       "8          Parque Industrial La Montana Km09 Edif932  Aguadilla    PR   \n",
       "9              Vista Azul Shopping Center #2 Km.80.0    Arecibo    PR   \n",
       "\n",
       "      ZIPCODE   LATITUDE  LONGITUDE  \n",
       "0       00602  18.352602 -67.177147  \n",
       "1       00602  18.379277 -67.187941  \n",
       "2  00602-0960  18.378655 -67.184110  \n",
       "3       00603  18.467886 -67.121671  \n",
       "4       00603  18.428120 -67.155628  \n",
       "5       00603  18.469662 -67.153612  \n",
       "6       00603  18.433052 -67.154452  \n",
       "7  00604-6150  18.498652 -67.137930  \n",
       "8       00605  18.448502 -67.141800  \n",
       "9       00612  18.475820 -66.754059  "
      ]
     },
     "execution_count": 29,
     "metadata": {},
     "output_type": "execute_result"
    }
   ],
   "source": [
    "%%bigquery\n",
    "select *\n",
    "from edge_1718_modeled.postsecondary_school\n",
    "limit 10"
   ]
  },
  {
   "cell_type": "markdown",
   "metadata": {},
   "source": [
    "##### Check for primary key"
   ]
  },
  {
   "cell_type": "code",
   "execution_count": 13,
   "metadata": {},
   "outputs": [
    {
     "data": {
      "text/html": [
       "<div>\n",
       "<style scoped>\n",
       "    .dataframe tbody tr th:only-of-type {\n",
       "        vertical-align: middle;\n",
       "    }\n",
       "\n",
       "    .dataframe tbody tr th {\n",
       "        vertical-align: top;\n",
       "    }\n",
       "\n",
       "    .dataframe thead th {\n",
       "        text-align: right;\n",
       "    }\n",
       "</style>\n",
       "<table border=\"1\" class=\"dataframe\">\n",
       "  <thead>\n",
       "    <tr style=\"text-align: right;\">\n",
       "      <th></th>\n",
       "      <th>f0_</th>\n",
       "    </tr>\n",
       "  </thead>\n",
       "  <tbody>\n",
       "    <tr>\n",
       "      <th>0</th>\n",
       "      <td>7599</td>\n",
       "    </tr>\n",
       "  </tbody>\n",
       "</table>\n",
       "</div>"
      ],
      "text/plain": [
       "    f0_\n",
       "0  7599"
      ]
     },
     "execution_count": 13,
     "metadata": {},
     "output_type": "execute_result"
    }
   ],
   "source": [
    "%%bigquery\n",
    "select count(SCHOOLID)\n",
    "from edge_1718_modeled.postsecondary_school"
   ]
  },
  {
   "cell_type": "code",
   "execution_count": 14,
   "metadata": {},
   "outputs": [
    {
     "data": {
      "text/html": [
       "<div>\n",
       "<style scoped>\n",
       "    .dataframe tbody tr th:only-of-type {\n",
       "        vertical-align: middle;\n",
       "    }\n",
       "\n",
       "    .dataframe tbody tr th {\n",
       "        vertical-align: top;\n",
       "    }\n",
       "\n",
       "    .dataframe thead th {\n",
       "        text-align: right;\n",
       "    }\n",
       "</style>\n",
       "<table border=\"1\" class=\"dataframe\">\n",
       "  <thead>\n",
       "    <tr style=\"text-align: right;\">\n",
       "      <th></th>\n",
       "      <th>f0_</th>\n",
       "    </tr>\n",
       "  </thead>\n",
       "  <tbody>\n",
       "    <tr>\n",
       "      <th>0</th>\n",
       "      <td>7599</td>\n",
       "    </tr>\n",
       "  </tbody>\n",
       "</table>\n",
       "</div>"
      ],
      "text/plain": [
       "    f0_\n",
       "0  7599"
      ]
     },
     "execution_count": 14,
     "metadata": {},
     "output_type": "execute_result"
    }
   ],
   "source": [
    "%%bigquery\n",
    "select count(distinct SCHOOLID)\n",
    "from edge_1718_modeled.postsecondary_school"
   ]
  },
  {
   "cell_type": "code",
   "execution_count": 16,
   "metadata": {},
   "outputs": [
    {
     "data": {
      "text/html": [
       "<div>\n",
       "<style scoped>\n",
       "    .dataframe tbody tr th:only-of-type {\n",
       "        vertical-align: middle;\n",
       "    }\n",
       "\n",
       "    .dataframe tbody tr th {\n",
       "        vertical-align: top;\n",
       "    }\n",
       "\n",
       "    .dataframe thead th {\n",
       "        text-align: right;\n",
       "    }\n",
       "</style>\n",
       "<table border=\"1\" class=\"dataframe\">\n",
       "  <thead>\n",
       "    <tr style=\"text-align: right;\">\n",
       "      <th></th>\n",
       "      <th>f0_</th>\n",
       "    </tr>\n",
       "  </thead>\n",
       "  <tbody>\n",
       "    <tr>\n",
       "      <th>0</th>\n",
       "      <td>7599</td>\n",
       "    </tr>\n",
       "  </tbody>\n",
       "</table>\n",
       "</div>"
      ],
      "text/plain": [
       "    f0_\n",
       "0  7599"
      ]
     },
     "execution_count": 16,
     "metadata": {},
     "output_type": "execute_result"
    }
   ],
   "source": [
    "%%bigquery\n",
    "select count(ZIPCODE)\n",
    "from edge_1718_modeled.postsecondary_school"
   ]
  },
  {
   "cell_type": "code",
   "execution_count": 17,
   "metadata": {},
   "outputs": [
    {
     "data": {
      "text/html": [
       "<div>\n",
       "<style scoped>\n",
       "    .dataframe tbody tr th:only-of-type {\n",
       "        vertical-align: middle;\n",
       "    }\n",
       "\n",
       "    .dataframe tbody tr th {\n",
       "        vertical-align: top;\n",
       "    }\n",
       "\n",
       "    .dataframe thead th {\n",
       "        text-align: right;\n",
       "    }\n",
       "</style>\n",
       "<table border=\"1\" class=\"dataframe\">\n",
       "  <thead>\n",
       "    <tr style=\"text-align: right;\">\n",
       "      <th></th>\n",
       "      <th>f0_</th>\n",
       "    </tr>\n",
       "  </thead>\n",
       "  <tbody>\n",
       "    <tr>\n",
       "      <th>0</th>\n",
       "      <td>6537</td>\n",
       "    </tr>\n",
       "  </tbody>\n",
       "</table>\n",
       "</div>"
      ],
      "text/plain": [
       "    f0_\n",
       "0  6537"
      ]
     },
     "execution_count": 17,
     "metadata": {},
     "output_type": "execute_result"
    }
   ],
   "source": [
    "%%bigquery\n",
    "select count(distinct ZIPCODE)\n",
    "from edge_1718_modeled.postsecondary_school"
   ]
  },
  {
   "cell_type": "markdown",
   "metadata": {},
   "source": [
    "#### Create public_school table with necessary columns"
   ]
  },
  {
   "cell_type": "code",
   "execution_count": 6,
   "metadata": {},
   "outputs": [
    {
     "data": {
      "text/html": [
       "<div>\n",
       "<style scoped>\n",
       "    .dataframe tbody tr th:only-of-type {\n",
       "        vertical-align: middle;\n",
       "    }\n",
       "\n",
       "    .dataframe tbody tr th {\n",
       "        vertical-align: top;\n",
       "    }\n",
       "\n",
       "    .dataframe thead th {\n",
       "        text-align: right;\n",
       "    }\n",
       "</style>\n",
       "<table border=\"1\" class=\"dataframe\">\n",
       "  <thead>\n",
       "    <tr style=\"text-align: right;\">\n",
       "      <th></th>\n",
       "    </tr>\n",
       "  </thead>\n",
       "  <tbody>\n",
       "  </tbody>\n",
       "</table>\n",
       "</div>"
      ],
      "text/plain": [
       "Empty DataFrame\n",
       "Columns: []\n",
       "Index: []"
      ]
     },
     "execution_count": 6,
     "metadata": {},
     "output_type": "execute_result"
    }
   ],
   "source": [
    "%%bigquery\n",
    "create or replace table edge_1718_modeled.public_school as\n",
    "select NCESSCH as SCHOOLID, NAME, STREET, CITY, STATE, ZIP as ZIPCODE, cast(LAT as FLOAT64) as LATITUDE, cast(LON as FLOAT64) as LONGITUDE\n",
    "from edge_1718_staging.public_school\n",
    "order by ZIPCODE"
   ]
  },
  {
   "cell_type": "markdown",
   "metadata": {},
   "source": [
    "##### Check table"
   ]
  },
  {
   "cell_type": "code",
   "execution_count": 30,
   "metadata": {},
   "outputs": [
    {
     "data": {
      "text/html": [
       "<div>\n",
       "<style scoped>\n",
       "    .dataframe tbody tr th:only-of-type {\n",
       "        vertical-align: middle;\n",
       "    }\n",
       "\n",
       "    .dataframe tbody tr th {\n",
       "        vertical-align: top;\n",
       "    }\n",
       "\n",
       "    .dataframe thead th {\n",
       "        text-align: right;\n",
       "    }\n",
       "</style>\n",
       "<table border=\"1\" class=\"dataframe\">\n",
       "  <thead>\n",
       "    <tr style=\"text-align: right;\">\n",
       "      <th></th>\n",
       "      <th>SCHOOLID</th>\n",
       "      <th>NAME</th>\n",
       "      <th>STREET</th>\n",
       "      <th>CITY</th>\n",
       "      <th>STATE</th>\n",
       "      <th>ZIPCODE</th>\n",
       "      <th>LATITUDE</th>\n",
       "      <th>LONGITUDE</th>\n",
       "    </tr>\n",
       "  </thead>\n",
       "  <tbody>\n",
       "    <tr>\n",
       "      <th>0</th>\n",
       "      <td>720003000507</td>\n",
       "      <td>DOMINGO PIETRI RUIZ</td>\n",
       "      <td>16 CALLE RODULFO GONZALEZ</td>\n",
       "      <td>ADJUNTAS</td>\n",
       "      <td>PR</td>\n",
       "      <td>00601</td>\n",
       "      <td>18.173030</td>\n",
       "      <td>-66.726662</td>\n",
       "    </tr>\n",
       "    <tr>\n",
       "      <th>1</th>\n",
       "      <td>720003001132</td>\n",
       "      <td>RAFAEL APARICIO JIMENEZ</td>\n",
       "      <td>CALLE RODULFO GONZALEZ FINAL</td>\n",
       "      <td>ADJUNTAS</td>\n",
       "      <td>PR</td>\n",
       "      <td>00601</td>\n",
       "      <td>18.164856</td>\n",
       "      <td>-66.723917</td>\n",
       "    </tr>\n",
       "    <tr>\n",
       "      <th>2</th>\n",
       "      <td>720003001138</td>\n",
       "      <td>ANGEL A. MALDONADO BULA</td>\n",
       "      <td>CARR 526 KM 7 HM 2 BO TANAMA SECTOR EL VALLE</td>\n",
       "      <td>ADJUNTAS</td>\n",
       "      <td>PR</td>\n",
       "      <td>00601</td>\n",
       "      <td>18.216899</td>\n",
       "      <td>-66.761178</td>\n",
       "    </tr>\n",
       "    <tr>\n",
       "      <th>3</th>\n",
       "      <td>720003001145</td>\n",
       "      <td>DOMINGO MASSOL</td>\n",
       "      <td>CARR 388 KM 0 HM 1 BO VACAS SALTILLO</td>\n",
       "      <td>ADJUNTAS</td>\n",
       "      <td>PR</td>\n",
       "      <td>00601</td>\n",
       "      <td>18.134163</td>\n",
       "      <td>-66.729557</td>\n",
       "    </tr>\n",
       "    <tr>\n",
       "      <th>4</th>\n",
       "      <td>720003001147</td>\n",
       "      <td>TELESFORO VELEZ OLIVER</td>\n",
       "      <td>CARR 521 KM 5 HM 6 BO VEGAS ARRIBA</td>\n",
       "      <td>ADJUNTAS</td>\n",
       "      <td>PR</td>\n",
       "      <td>00601</td>\n",
       "      <td>18.168130</td>\n",
       "      <td>-66.692534</td>\n",
       "    </tr>\n",
       "    <tr>\n",
       "      <th>5</th>\n",
       "      <td>720003001151</td>\n",
       "      <td>HECTOR I. RIVERA</td>\n",
       "      <td>CARR 135 KM 75 HM 5 BO YAHUECAS</td>\n",
       "      <td>ADJUNTAS</td>\n",
       "      <td>PR</td>\n",
       "      <td>00601</td>\n",
       "      <td>18.197394</td>\n",
       "      <td>-66.793426</td>\n",
       "    </tr>\n",
       "    <tr>\n",
       "      <th>6</th>\n",
       "      <td>720003000551</td>\n",
       "      <td>PROFESORA JUANA ROSARIO CARRERO (ESCUELA INTER...</td>\n",
       "      <td>AVE. NATIVO ALERS DESVIO SUR</td>\n",
       "      <td>AGUADA</td>\n",
       "      <td>PR</td>\n",
       "      <td>00602</td>\n",
       "      <td>18.376094</td>\n",
       "      <td>-67.185025</td>\n",
       "    </tr>\n",
       "    <tr>\n",
       "      <th>7</th>\n",
       "      <td>720003000751</td>\n",
       "      <td>ZOILO CAJIGAS SOTOMAYOR</td>\n",
       "      <td>CALLE D GONZALEZ URB MONTEMAR</td>\n",
       "      <td>AGUADA</td>\n",
       "      <td>PR</td>\n",
       "      <td>00602</td>\n",
       "      <td>18.382801</td>\n",
       "      <td>-67.189234</td>\n",
       "    </tr>\n",
       "    <tr>\n",
       "      <th>8</th>\n",
       "      <td>720003000752</td>\n",
       "      <td>ARSENIO MARTINEZ</td>\n",
       "      <td>CARR115 CALLE COLON</td>\n",
       "      <td>AGUADA</td>\n",
       "      <td>PR</td>\n",
       "      <td>00602</td>\n",
       "      <td>18.381468</td>\n",
       "      <td>-67.192866</td>\n",
       "    </tr>\n",
       "    <tr>\n",
       "      <th>9</th>\n",
       "      <td>720003000753</td>\n",
       "      <td>DR. CARLOS GONZALEZ</td>\n",
       "      <td>CARR 441 KM 0 HM 1 BO GUANIQUILLA</td>\n",
       "      <td>AGUADA</td>\n",
       "      <td>PR</td>\n",
       "      <td>00602</td>\n",
       "      <td>18.390776</td>\n",
       "      <td>-67.194982</td>\n",
       "    </tr>\n",
       "  </tbody>\n",
       "</table>\n",
       "</div>"
      ],
      "text/plain": [
       "       SCHOOLID                                               NAME  \\\n",
       "0  720003000507                                DOMINGO PIETRI RUIZ   \n",
       "1  720003001132                            RAFAEL APARICIO JIMENEZ   \n",
       "2  720003001138                            ANGEL A. MALDONADO BULA   \n",
       "3  720003001145                                     DOMINGO MASSOL   \n",
       "4  720003001147                             TELESFORO VELEZ OLIVER   \n",
       "5  720003001151                                   HECTOR I. RIVERA   \n",
       "6  720003000551  PROFESORA JUANA ROSARIO CARRERO (ESCUELA INTER...   \n",
       "7  720003000751                            ZOILO CAJIGAS SOTOMAYOR   \n",
       "8  720003000752                                   ARSENIO MARTINEZ   \n",
       "9  720003000753                                DR. CARLOS GONZALEZ   \n",
       "\n",
       "                                         STREET      CITY STATE ZIPCODE  \\\n",
       "0                     16 CALLE RODULFO GONZALEZ  ADJUNTAS    PR   00601   \n",
       "1                  CALLE RODULFO GONZALEZ FINAL  ADJUNTAS    PR   00601   \n",
       "2  CARR 526 KM 7 HM 2 BO TANAMA SECTOR EL VALLE  ADJUNTAS    PR   00601   \n",
       "3          CARR 388 KM 0 HM 1 BO VACAS SALTILLO  ADJUNTAS    PR   00601   \n",
       "4            CARR 521 KM 5 HM 6 BO VEGAS ARRIBA  ADJUNTAS    PR   00601   \n",
       "5               CARR 135 KM 75 HM 5 BO YAHUECAS  ADJUNTAS    PR   00601   \n",
       "6                  AVE. NATIVO ALERS DESVIO SUR    AGUADA    PR   00602   \n",
       "7                 CALLE D GONZALEZ URB MONTEMAR    AGUADA    PR   00602   \n",
       "8                           CARR115 CALLE COLON    AGUADA    PR   00602   \n",
       "9             CARR 441 KM 0 HM 1 BO GUANIQUILLA    AGUADA    PR   00602   \n",
       "\n",
       "    LATITUDE  LONGITUDE  \n",
       "0  18.173030 -66.726662  \n",
       "1  18.164856 -66.723917  \n",
       "2  18.216899 -66.761178  \n",
       "3  18.134163 -66.729557  \n",
       "4  18.168130 -66.692534  \n",
       "5  18.197394 -66.793426  \n",
       "6  18.376094 -67.185025  \n",
       "7  18.382801 -67.189234  \n",
       "8  18.381468 -67.192866  \n",
       "9  18.390776 -67.194982  "
      ]
     },
     "execution_count": 30,
     "metadata": {},
     "output_type": "execute_result"
    }
   ],
   "source": [
    "%%bigquery\n",
    "select *\n",
    "from edge_1718_modeled.public_school\n",
    "limit 10"
   ]
  },
  {
   "cell_type": "markdown",
   "metadata": {},
   "source": [
    "##### Check for primary key"
   ]
  },
  {
   "cell_type": "code",
   "execution_count": 18,
   "metadata": {},
   "outputs": [
    {
     "data": {
      "text/html": [
       "<div>\n",
       "<style scoped>\n",
       "    .dataframe tbody tr th:only-of-type {\n",
       "        vertical-align: middle;\n",
       "    }\n",
       "\n",
       "    .dataframe tbody tr th {\n",
       "        vertical-align: top;\n",
       "    }\n",
       "\n",
       "    .dataframe thead th {\n",
       "        text-align: right;\n",
       "    }\n",
       "</style>\n",
       "<table border=\"1\" class=\"dataframe\">\n",
       "  <thead>\n",
       "    <tr style=\"text-align: right;\">\n",
       "      <th></th>\n",
       "      <th>f0_</th>\n",
       "    </tr>\n",
       "  </thead>\n",
       "  <tbody>\n",
       "    <tr>\n",
       "      <th>0</th>\n",
       "      <td>102337</td>\n",
       "    </tr>\n",
       "  </tbody>\n",
       "</table>\n",
       "</div>"
      ],
      "text/plain": [
       "      f0_\n",
       "0  102337"
      ]
     },
     "execution_count": 18,
     "metadata": {},
     "output_type": "execute_result"
    }
   ],
   "source": [
    "%%bigquery\n",
    "select count(SCHOOLID)\n",
    "from edge_1718_modeled.public_school"
   ]
  },
  {
   "cell_type": "code",
   "execution_count": 19,
   "metadata": {},
   "outputs": [
    {
     "data": {
      "text/html": [
       "<div>\n",
       "<style scoped>\n",
       "    .dataframe tbody tr th:only-of-type {\n",
       "        vertical-align: middle;\n",
       "    }\n",
       "\n",
       "    .dataframe tbody tr th {\n",
       "        vertical-align: top;\n",
       "    }\n",
       "\n",
       "    .dataframe thead th {\n",
       "        text-align: right;\n",
       "    }\n",
       "</style>\n",
       "<table border=\"1\" class=\"dataframe\">\n",
       "  <thead>\n",
       "    <tr style=\"text-align: right;\">\n",
       "      <th></th>\n",
       "      <th>f0_</th>\n",
       "    </tr>\n",
       "  </thead>\n",
       "  <tbody>\n",
       "    <tr>\n",
       "      <th>0</th>\n",
       "      <td>102337</td>\n",
       "    </tr>\n",
       "  </tbody>\n",
       "</table>\n",
       "</div>"
      ],
      "text/plain": [
       "      f0_\n",
       "0  102337"
      ]
     },
     "execution_count": 19,
     "metadata": {},
     "output_type": "execute_result"
    }
   ],
   "source": [
    "%%bigquery\n",
    "select count(distinct SCHOOLID)\n",
    "from edge_1718_modeled.public_school"
   ]
  },
  {
   "cell_type": "code",
   "execution_count": 20,
   "metadata": {},
   "outputs": [
    {
     "data": {
      "text/html": [
       "<div>\n",
       "<style scoped>\n",
       "    .dataframe tbody tr th:only-of-type {\n",
       "        vertical-align: middle;\n",
       "    }\n",
       "\n",
       "    .dataframe tbody tr th {\n",
       "        vertical-align: top;\n",
       "    }\n",
       "\n",
       "    .dataframe thead th {\n",
       "        text-align: right;\n",
       "    }\n",
       "</style>\n",
       "<table border=\"1\" class=\"dataframe\">\n",
       "  <thead>\n",
       "    <tr style=\"text-align: right;\">\n",
       "      <th></th>\n",
       "      <th>f0_</th>\n",
       "    </tr>\n",
       "  </thead>\n",
       "  <tbody>\n",
       "    <tr>\n",
       "      <th>0</th>\n",
       "      <td>102337</td>\n",
       "    </tr>\n",
       "  </tbody>\n",
       "</table>\n",
       "</div>"
      ],
      "text/plain": [
       "      f0_\n",
       "0  102337"
      ]
     },
     "execution_count": 20,
     "metadata": {},
     "output_type": "execute_result"
    }
   ],
   "source": [
    "%%bigquery\n",
    "select count(ZIPCODE)\n",
    "from edge_1718_modeled.public_school"
   ]
  },
  {
   "cell_type": "code",
   "execution_count": 21,
   "metadata": {},
   "outputs": [
    {
     "data": {
      "text/html": [
       "<div>\n",
       "<style scoped>\n",
       "    .dataframe tbody tr th:only-of-type {\n",
       "        vertical-align: middle;\n",
       "    }\n",
       "\n",
       "    .dataframe tbody tr th {\n",
       "        vertical-align: top;\n",
       "    }\n",
       "\n",
       "    .dataframe thead th {\n",
       "        text-align: right;\n",
       "    }\n",
       "</style>\n",
       "<table border=\"1\" class=\"dataframe\">\n",
       "  <thead>\n",
       "    <tr style=\"text-align: right;\">\n",
       "      <th></th>\n",
       "      <th>f0_</th>\n",
       "    </tr>\n",
       "  </thead>\n",
       "  <tbody>\n",
       "    <tr>\n",
       "      <th>0</th>\n",
       "      <td>22621</td>\n",
       "    </tr>\n",
       "  </tbody>\n",
       "</table>\n",
       "</div>"
      ],
      "text/plain": [
       "     f0_\n",
       "0  22621"
      ]
     },
     "execution_count": 21,
     "metadata": {},
     "output_type": "execute_result"
    }
   ],
   "source": [
    "%%bigquery\n",
    "select count(distinct ZIPCODE)\n",
    "from edge_1718_modeled.public_school"
   ]
  },
  {
   "cell_type": "markdown",
   "metadata": {},
   "source": [
    "#### Create private_school table with necessary columns"
   ]
  },
  {
   "cell_type": "code",
   "execution_count": 12,
   "metadata": {},
   "outputs": [
    {
     "data": {
      "text/html": [
       "<div>\n",
       "<style scoped>\n",
       "    .dataframe tbody tr th:only-of-type {\n",
       "        vertical-align: middle;\n",
       "    }\n",
       "\n",
       "    .dataframe tbody tr th {\n",
       "        vertical-align: top;\n",
       "    }\n",
       "\n",
       "    .dataframe thead th {\n",
       "        text-align: right;\n",
       "    }\n",
       "</style>\n",
       "<table border=\"1\" class=\"dataframe\">\n",
       "  <thead>\n",
       "    <tr style=\"text-align: right;\">\n",
       "      <th></th>\n",
       "    </tr>\n",
       "  </thead>\n",
       "  <tbody>\n",
       "  </tbody>\n",
       "</table>\n",
       "</div>"
      ],
      "text/plain": [
       "Empty DataFrame\n",
       "Columns: []\n",
       "Index: []"
      ]
     },
     "execution_count": 12,
     "metadata": {},
     "output_type": "execute_result"
    }
   ],
   "source": [
    "%%bigquery\n",
    "create or replace table edge_1718_modeled.private_school as\n",
    "select PPIN as SCHOOLID, PINST as NAME, STREET, CITY, STATE, ZIP as ZIPCODE, cast(LAT as FLOAT64) as LATITUDE, cast(LON as FLOAT64) as LONGITUDE\n",
    "from edge_1718_staging.private_school\n",
    "order by ZIPCODE"
   ]
  },
  {
   "cell_type": "markdown",
   "metadata": {},
   "source": [
    "##### Check table"
   ]
  },
  {
   "cell_type": "code",
   "execution_count": 31,
   "metadata": {},
   "outputs": [
    {
     "data": {
      "text/html": [
       "<div>\n",
       "<style scoped>\n",
       "    .dataframe tbody tr th:only-of-type {\n",
       "        vertical-align: middle;\n",
       "    }\n",
       "\n",
       "    .dataframe tbody tr th {\n",
       "        vertical-align: top;\n",
       "    }\n",
       "\n",
       "    .dataframe thead th {\n",
       "        text-align: right;\n",
       "    }\n",
       "</style>\n",
       "<table border=\"1\" class=\"dataframe\">\n",
       "  <thead>\n",
       "    <tr style=\"text-align: right;\">\n",
       "      <th></th>\n",
       "      <th>SCHOOLID</th>\n",
       "      <th>NAME</th>\n",
       "      <th>STREET</th>\n",
       "      <th>CITY</th>\n",
       "      <th>STATE</th>\n",
       "      <th>ZIPCODE</th>\n",
       "      <th>LATITUDE</th>\n",
       "      <th>LONGITUDE</th>\n",
       "    </tr>\n",
       "  </thead>\n",
       "  <tbody>\n",
       "    <tr>\n",
       "      <th>0</th>\n",
       "      <td>00603188</td>\n",
       "      <td>THE COMMON SCHOOL</td>\n",
       "      <td>521 S PLEASANT</td>\n",
       "      <td>AMHERST</td>\n",
       "      <td>MA</td>\n",
       "      <td>01002</td>\n",
       "      <td>42.360104</td>\n",
       "      <td>-72.520857</td>\n",
       "    </tr>\n",
       "    <tr>\n",
       "      <th>1</th>\n",
       "      <td>A9502182</td>\n",
       "      <td>AMHERST MONTESSORI SCHOOL</td>\n",
       "      <td>27 POMEROY LN</td>\n",
       "      <td>AMHERST</td>\n",
       "      <td>MA</td>\n",
       "      <td>01002</td>\n",
       "      <td>42.338990</td>\n",
       "      <td>-72.518301</td>\n",
       "    </tr>\n",
       "    <tr>\n",
       "      <th>2</th>\n",
       "      <td>00602209</td>\n",
       "      <td>POPE FRANCIS HIGH SCHOOL</td>\n",
       "      <td>134 SPRINGFIELD ST</td>\n",
       "      <td>CHICOPEE</td>\n",
       "      <td>MA</td>\n",
       "      <td>01013</td>\n",
       "      <td>42.145872</td>\n",
       "      <td>-72.604592</td>\n",
       "    </tr>\n",
       "    <tr>\n",
       "      <th>3</th>\n",
       "      <td>00602311</td>\n",
       "      <td>ST STANISLAUS ELEMENTARY SCHOOL</td>\n",
       "      <td>534 FRONT ST</td>\n",
       "      <td>CHICOPEE</td>\n",
       "      <td>MA</td>\n",
       "      <td>01013</td>\n",
       "      <td>42.147620</td>\n",
       "      <td>-72.596561</td>\n",
       "    </tr>\n",
       "    <tr>\n",
       "      <th>4</th>\n",
       "      <td>A0301832</td>\n",
       "      <td>VALLEY WEST SCHOOL</td>\n",
       "      <td>269 MOORE ST</td>\n",
       "      <td>CHICOPEE</td>\n",
       "      <td>MA</td>\n",
       "      <td>01013</td>\n",
       "      <td>42.137104</td>\n",
       "      <td>-72.591826</td>\n",
       "    </tr>\n",
       "    <tr>\n",
       "      <th>5</th>\n",
       "      <td>00602399</td>\n",
       "      <td>ST JOAN OF ARC SCHOOL</td>\n",
       "      <td>587 GRATTAN ST</td>\n",
       "      <td>CHICOPEE</td>\n",
       "      <td>MA</td>\n",
       "      <td>01020</td>\n",
       "      <td>42.170763</td>\n",
       "      <td>-72.597507</td>\n",
       "    </tr>\n",
       "    <tr>\n",
       "      <th>6</th>\n",
       "      <td>00604341</td>\n",
       "      <td>THE WILLISTON NORTHAMPTON SCHOOL</td>\n",
       "      <td>19 PAYSON AVE</td>\n",
       "      <td>EASTHAMPTON</td>\n",
       "      <td>MA</td>\n",
       "      <td>01027</td>\n",
       "      <td>42.266660</td>\n",
       "      <td>-72.671791</td>\n",
       "    </tr>\n",
       "    <tr>\n",
       "      <th>7</th>\n",
       "      <td>A9303204</td>\n",
       "      <td>TRI-COUNTY SCHOOLS</td>\n",
       "      <td>201 E ST</td>\n",
       "      <td>EASTHAMPTON</td>\n",
       "      <td>MA</td>\n",
       "      <td>01027</td>\n",
       "      <td>42.279200</td>\n",
       "      <td>-72.639900</td>\n",
       "    </tr>\n",
       "    <tr>\n",
       "      <th>8</th>\n",
       "      <td>00603949</td>\n",
       "      <td>THE MACDUFFIE SCHOOL</td>\n",
       "      <td>66 SCHOOL ST</td>\n",
       "      <td>GRANBY</td>\n",
       "      <td>MA</td>\n",
       "      <td>01033</td>\n",
       "      <td>42.269020</td>\n",
       "      <td>-72.473921</td>\n",
       "    </tr>\n",
       "    <tr>\n",
       "      <th>9</th>\n",
       "      <td>A1301637</td>\n",
       "      <td>COMMUNITY CHRISTIAN SCHOOL</td>\n",
       "      <td>409 MAIN RD</td>\n",
       "      <td>GRANVILLE</td>\n",
       "      <td>MA</td>\n",
       "      <td>01034</td>\n",
       "      <td>42.066194</td>\n",
       "      <td>-72.854588</td>\n",
       "    </tr>\n",
       "  </tbody>\n",
       "</table>\n",
       "</div>"
      ],
      "text/plain": [
       "   SCHOOLID                              NAME              STREET  \\\n",
       "0  00603188                 THE COMMON SCHOOL      521 S PLEASANT   \n",
       "1  A9502182         AMHERST MONTESSORI SCHOOL       27 POMEROY LN   \n",
       "2  00602209          POPE FRANCIS HIGH SCHOOL  134 SPRINGFIELD ST   \n",
       "3  00602311   ST STANISLAUS ELEMENTARY SCHOOL        534 FRONT ST   \n",
       "4  A0301832                VALLEY WEST SCHOOL        269 MOORE ST   \n",
       "5  00602399             ST JOAN OF ARC SCHOOL      587 GRATTAN ST   \n",
       "6  00604341  THE WILLISTON NORTHAMPTON SCHOOL       19 PAYSON AVE   \n",
       "7  A9303204                TRI-COUNTY SCHOOLS            201 E ST   \n",
       "8  00603949              THE MACDUFFIE SCHOOL        66 SCHOOL ST   \n",
       "9  A1301637        COMMUNITY CHRISTIAN SCHOOL         409 MAIN RD   \n",
       "\n",
       "          CITY STATE ZIPCODE   LATITUDE  LONGITUDE  \n",
       "0      AMHERST    MA   01002  42.360104 -72.520857  \n",
       "1      AMHERST    MA   01002  42.338990 -72.518301  \n",
       "2     CHICOPEE    MA   01013  42.145872 -72.604592  \n",
       "3     CHICOPEE    MA   01013  42.147620 -72.596561  \n",
       "4     CHICOPEE    MA   01013  42.137104 -72.591826  \n",
       "5     CHICOPEE    MA   01020  42.170763 -72.597507  \n",
       "6  EASTHAMPTON    MA   01027  42.266660 -72.671791  \n",
       "7  EASTHAMPTON    MA   01027  42.279200 -72.639900  \n",
       "8       GRANBY    MA   01033  42.269020 -72.473921  \n",
       "9    GRANVILLE    MA   01034  42.066194 -72.854588  "
      ]
     },
     "execution_count": 31,
     "metadata": {},
     "output_type": "execute_result"
    }
   ],
   "source": [
    "%%bigquery\n",
    "select *\n",
    "from edge_1718_modeled.private_school\n",
    "limit 10"
   ]
  },
  {
   "cell_type": "markdown",
   "metadata": {},
   "source": [
    "##### Check for primary key"
   ]
  },
  {
   "cell_type": "code",
   "execution_count": 22,
   "metadata": {},
   "outputs": [
    {
     "data": {
      "text/html": [
       "<div>\n",
       "<style scoped>\n",
       "    .dataframe tbody tr th:only-of-type {\n",
       "        vertical-align: middle;\n",
       "    }\n",
       "\n",
       "    .dataframe tbody tr th {\n",
       "        vertical-align: top;\n",
       "    }\n",
       "\n",
       "    .dataframe thead th {\n",
       "        text-align: right;\n",
       "    }\n",
       "</style>\n",
       "<table border=\"1\" class=\"dataframe\">\n",
       "  <thead>\n",
       "    <tr style=\"text-align: right;\">\n",
       "      <th></th>\n",
       "      <th>f0_</th>\n",
       "    </tr>\n",
       "  </thead>\n",
       "  <tbody>\n",
       "    <tr>\n",
       "      <th>0</th>\n",
       "      <td>22890</td>\n",
       "    </tr>\n",
       "  </tbody>\n",
       "</table>\n",
       "</div>"
      ],
      "text/plain": [
       "     f0_\n",
       "0  22890"
      ]
     },
     "execution_count": 22,
     "metadata": {},
     "output_type": "execute_result"
    }
   ],
   "source": [
    "%%bigquery\n",
    "select count(SCHOOLID)\n",
    "from edge_1718_modeled.private_school"
   ]
  },
  {
   "cell_type": "code",
   "execution_count": 23,
   "metadata": {},
   "outputs": [
    {
     "data": {
      "text/html": [
       "<div>\n",
       "<style scoped>\n",
       "    .dataframe tbody tr th:only-of-type {\n",
       "        vertical-align: middle;\n",
       "    }\n",
       "\n",
       "    .dataframe tbody tr th {\n",
       "        vertical-align: top;\n",
       "    }\n",
       "\n",
       "    .dataframe thead th {\n",
       "        text-align: right;\n",
       "    }\n",
       "</style>\n",
       "<table border=\"1\" class=\"dataframe\">\n",
       "  <thead>\n",
       "    <tr style=\"text-align: right;\">\n",
       "      <th></th>\n",
       "      <th>f0_</th>\n",
       "    </tr>\n",
       "  </thead>\n",
       "  <tbody>\n",
       "    <tr>\n",
       "      <th>0</th>\n",
       "      <td>22890</td>\n",
       "    </tr>\n",
       "  </tbody>\n",
       "</table>\n",
       "</div>"
      ],
      "text/plain": [
       "     f0_\n",
       "0  22890"
      ]
     },
     "execution_count": 23,
     "metadata": {},
     "output_type": "execute_result"
    }
   ],
   "source": [
    "%%bigquery\n",
    "select count(distinct SCHOOLID)\n",
    "from edge_1718_modeled.private_school"
   ]
  },
  {
   "cell_type": "code",
   "execution_count": 26,
   "metadata": {},
   "outputs": [
    {
     "data": {
      "text/html": [
       "<div>\n",
       "<style scoped>\n",
       "    .dataframe tbody tr th:only-of-type {\n",
       "        vertical-align: middle;\n",
       "    }\n",
       "\n",
       "    .dataframe tbody tr th {\n",
       "        vertical-align: top;\n",
       "    }\n",
       "\n",
       "    .dataframe thead th {\n",
       "        text-align: right;\n",
       "    }\n",
       "</style>\n",
       "<table border=\"1\" class=\"dataframe\">\n",
       "  <thead>\n",
       "    <tr style=\"text-align: right;\">\n",
       "      <th></th>\n",
       "      <th>f0_</th>\n",
       "    </tr>\n",
       "  </thead>\n",
       "  <tbody>\n",
       "    <tr>\n",
       "      <th>0</th>\n",
       "      <td>22890</td>\n",
       "    </tr>\n",
       "  </tbody>\n",
       "</table>\n",
       "</div>"
      ],
      "text/plain": [
       "     f0_\n",
       "0  22890"
      ]
     },
     "execution_count": 26,
     "metadata": {},
     "output_type": "execute_result"
    }
   ],
   "source": [
    "%%bigquery\n",
    "select count(ZIPCODE)\n",
    "from edge_1718_modeled.private_school"
   ]
  },
  {
   "cell_type": "code",
   "execution_count": 27,
   "metadata": {},
   "outputs": [
    {
     "data": {
      "text/html": [
       "<div>\n",
       "<style scoped>\n",
       "    .dataframe tbody tr th:only-of-type {\n",
       "        vertical-align: middle;\n",
       "    }\n",
       "\n",
       "    .dataframe tbody tr th {\n",
       "        vertical-align: top;\n",
       "    }\n",
       "\n",
       "    .dataframe thead th {\n",
       "        text-align: right;\n",
       "    }\n",
       "</style>\n",
       "<table border=\"1\" class=\"dataframe\">\n",
       "  <thead>\n",
       "    <tr style=\"text-align: right;\">\n",
       "      <th></th>\n",
       "      <th>f0_</th>\n",
       "    </tr>\n",
       "  </thead>\n",
       "  <tbody>\n",
       "    <tr>\n",
       "      <th>0</th>\n",
       "      <td>9809</td>\n",
       "    </tr>\n",
       "  </tbody>\n",
       "</table>\n",
       "</div>"
      ],
      "text/plain": [
       "    f0_\n",
       "0  9809"
      ]
     },
     "execution_count": 27,
     "metadata": {},
     "output_type": "execute_result"
    }
   ],
   "source": [
    "%%bigquery\n",
    "select count(distinct ZIPCODE)\n",
    "from edge_1718_modeled.private_school"
   ]
  }
 ],
 "metadata": {
  "kernelspec": {
   "display_name": "Python 3",
   "language": "python",
   "name": "python3"
  },
  "language_info": {
   "codemirror_mode": {
    "name": "ipython",
    "version": 3
   },
   "file_extension": ".py",
   "mimetype": "text/x-python",
   "name": "python",
   "nbconvert_exporter": "python",
   "pygments_lexer": "ipython3",
   "version": "3.5.3"
  }
 },
 "nbformat": 4,
 "nbformat_minor": 4
}
