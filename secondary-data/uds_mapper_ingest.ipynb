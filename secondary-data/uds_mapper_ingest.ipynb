{
 "cells": [
  {
   "cell_type": "markdown",
   "metadata": {},
   "source": [
    "## UDS Mapper : Zipcode to ZCTA5"
   ]
  },
  {
   "cell_type": "code",
   "execution_count": 1,
   "metadata": {},
   "outputs": [],
   "source": [
    "dataset_id = \"uds_mapper_staging\""
   ]
  },
  {
   "cell_type": "code",
   "execution_count": 2,
   "metadata": {},
   "outputs": [
    {
     "name": "stdout",
     "output_type": "stream",
     "text": [
      "Dataset 'sashimi-266523:uds_mapper_staging' successfully created.\n"
     ]
    }
   ],
   "source": [
    "!bq --location=US mk --dataset {dataset_id}"
   ]
  },
  {
   "cell_type": "code",
   "execution_count": 13,
   "metadata": {},
   "outputs": [
    {
     "name": "stdout",
     "output_type": "stream",
     "text": [
      "Waiting on bqjob_r19df80af527ad81e_000001718631891b_1 ... (2s) Current status: DONE   \n"
     ]
    }
   ],
   "source": [
    "!bq --location=US load --autodetect --null_marker=\"No ZCTA\" --skip_leading_rows=1 --allow_quoted_newlines \\\n",
    "--source_format=CSV {dataset_id}.zip_to_zcta5 'gs://uds-mapper/zip_to_zcta_2019.csv'"
   ]
  },
  {
   "cell_type": "markdown",
   "metadata": {},
   "source": [
    "## Explore"
   ]
  },
  {
   "cell_type": "code",
   "execution_count": 19,
   "metadata": {},
   "outputs": [
    {
     "data": {
      "text/html": [
       "<div>\n",
       "<style scoped>\n",
       "    .dataframe tbody tr th:only-of-type {\n",
       "        vertical-align: middle;\n",
       "    }\n",
       "\n",
       "    .dataframe tbody tr th {\n",
       "        vertical-align: top;\n",
       "    }\n",
       "\n",
       "    .dataframe thead th {\n",
       "        text-align: right;\n",
       "    }\n",
       "</style>\n",
       "<table border=\"1\" class=\"dataframe\">\n",
       "  <thead>\n",
       "    <tr style=\"text-align: right;\">\n",
       "      <th></th>\n",
       "      <th>ZIP_CODE</th>\n",
       "      <th>PO_NAME</th>\n",
       "      <th>STATE</th>\n",
       "      <th>ZIP_TYPE</th>\n",
       "      <th>ZCTA</th>\n",
       "      <th>zip_join_type</th>\n",
       "    </tr>\n",
       "  </thead>\n",
       "  <tbody>\n",
       "    <tr>\n",
       "      <th>0</th>\n",
       "      <td>601</td>\n",
       "      <td>Adjuntas</td>\n",
       "      <td>PR</td>\n",
       "      <td>Zip Code Area</td>\n",
       "      <td>601</td>\n",
       "      <td>Zip Matches ZCTA</td>\n",
       "    </tr>\n",
       "    <tr>\n",
       "      <th>1</th>\n",
       "      <td>602</td>\n",
       "      <td>Aguada</td>\n",
       "      <td>PR</td>\n",
       "      <td>Zip Code Area</td>\n",
       "      <td>602</td>\n",
       "      <td>Zip Matches ZCTA</td>\n",
       "    </tr>\n",
       "    <tr>\n",
       "      <th>2</th>\n",
       "      <td>603</td>\n",
       "      <td>Aguadilla</td>\n",
       "      <td>PR</td>\n",
       "      <td>Zip Code Area</td>\n",
       "      <td>603</td>\n",
       "      <td>Zip Matches ZCTA</td>\n",
       "    </tr>\n",
       "    <tr>\n",
       "      <th>3</th>\n",
       "      <td>606</td>\n",
       "      <td>Maricao</td>\n",
       "      <td>PR</td>\n",
       "      <td>Zip Code Area</td>\n",
       "      <td>606</td>\n",
       "      <td>Zip Matches ZCTA</td>\n",
       "    </tr>\n",
       "    <tr>\n",
       "      <th>4</th>\n",
       "      <td>610</td>\n",
       "      <td>Anasco</td>\n",
       "      <td>PR</td>\n",
       "      <td>Zip Code Area</td>\n",
       "      <td>610</td>\n",
       "      <td>Zip Matches ZCTA</td>\n",
       "    </tr>\n",
       "    <tr>\n",
       "      <th>...</th>\n",
       "      <td>...</td>\n",
       "      <td>...</td>\n",
       "      <td>...</td>\n",
       "      <td>...</td>\n",
       "      <td>...</td>\n",
       "      <td>...</td>\n",
       "    </tr>\n",
       "    <tr>\n",
       "      <th>41093</th>\n",
       "      <td>63464</td>\n",
       "      <td>ZCTA 63464</td>\n",
       "      <td>MO</td>\n",
       "      <td>populated ZCTA, missing zip</td>\n",
       "      <td>63464</td>\n",
       "      <td>populated ZCTA, missing zip</td>\n",
       "    </tr>\n",
       "    <tr>\n",
       "      <th>41094</th>\n",
       "      <td>66019</td>\n",
       "      <td>Clearview City</td>\n",
       "      <td>KS</td>\n",
       "      <td>populated ZCTA, missing zip</td>\n",
       "      <td>66019</td>\n",
       "      <td>populated ZCTA, missing zip</td>\n",
       "    </tr>\n",
       "    <tr>\n",
       "      <th>41095</th>\n",
       "      <td>83601</td>\n",
       "      <td>Atlanta</td>\n",
       "      <td>ID</td>\n",
       "      <td>populated ZCTA, missing zip</td>\n",
       "      <td>83601</td>\n",
       "      <td>populated ZCTA, missing zip</td>\n",
       "    </tr>\n",
       "    <tr>\n",
       "      <th>41096</th>\n",
       "      <td>84144</td>\n",
       "      <td>ZCTA 84144</td>\n",
       "      <td>UT</td>\n",
       "      <td>populated ZCTA, missing zip</td>\n",
       "      <td>84144</td>\n",
       "      <td>populated ZCTA, missing zip</td>\n",
       "    </tr>\n",
       "    <tr>\n",
       "      <th>41097</th>\n",
       "      <td>98205</td>\n",
       "      <td>ZCTA 98205</td>\n",
       "      <td>WA</td>\n",
       "      <td>populated ZCTA, missing zip</td>\n",
       "      <td>98205</td>\n",
       "      <td>populated ZCTA, missing zip</td>\n",
       "    </tr>\n",
       "  </tbody>\n",
       "</table>\n",
       "<p>41098 rows × 6 columns</p>\n",
       "</div>"
      ],
      "text/plain": [
       "       ZIP_CODE         PO_NAME STATE                     ZIP_TYPE   ZCTA  \\\n",
       "0           601        Adjuntas    PR                Zip Code Area    601   \n",
       "1           602          Aguada    PR                Zip Code Area    602   \n",
       "2           603       Aguadilla    PR                Zip Code Area    603   \n",
       "3           606         Maricao    PR                Zip Code Area    606   \n",
       "4           610          Anasco    PR                Zip Code Area    610   \n",
       "...         ...             ...   ...                          ...    ...   \n",
       "41093     63464      ZCTA 63464    MO  populated ZCTA, missing zip  63464   \n",
       "41094     66019  Clearview City    KS  populated ZCTA, missing zip  66019   \n",
       "41095     83601         Atlanta    ID  populated ZCTA, missing zip  83601   \n",
       "41096     84144      ZCTA 84144    UT  populated ZCTA, missing zip  84144   \n",
       "41097     98205      ZCTA 98205    WA  populated ZCTA, missing zip  98205   \n",
       "\n",
       "                     zip_join_type  \n",
       "0                 Zip Matches ZCTA  \n",
       "1                 Zip Matches ZCTA  \n",
       "2                 Zip Matches ZCTA  \n",
       "3                 Zip Matches ZCTA  \n",
       "4                 Zip Matches ZCTA  \n",
       "...                            ...  \n",
       "41093  populated ZCTA, missing zip  \n",
       "41094  populated ZCTA, missing zip  \n",
       "41095  populated ZCTA, missing zip  \n",
       "41096  populated ZCTA, missing zip  \n",
       "41097  populated ZCTA, missing zip  \n",
       "\n",
       "[41098 rows x 6 columns]"
      ]
     },
     "execution_count": 19,
     "metadata": {},
     "output_type": "execute_result"
    }
   ],
   "source": [
    "%%bigquery\n",
    "select *\n",
    "from uds_mapper_staging.zip_to_zcta5\n",
    "where ZCTA is not null"
   ]
  },
  {
   "cell_type": "code",
   "execution_count": null,
   "metadata": {},
   "outputs": [],
   "source": []
  }
 ],
 "metadata": {
  "kernelspec": {
   "display_name": "Python 3",
   "language": "python",
   "name": "python3"
  },
  "language_info": {
   "codemirror_mode": {
    "name": "ipython",
    "version": 3
   },
   "file_extension": ".py",
   "mimetype": "text/x-python",
   "name": "python",
   "nbconvert_exporter": "python",
   "pygments_lexer": "ipython3",
   "version": "3.5.3"
  }
 },
 "nbformat": 4,
 "nbformat_minor": 4
}
