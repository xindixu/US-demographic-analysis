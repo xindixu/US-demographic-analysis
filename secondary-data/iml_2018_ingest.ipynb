{
 "cells": [
  {
   "cell_type": "markdown",
   "metadata": {},
   "source": [
    "# Institute of Museum and Library Services (2018)"
   ]
  },
  {
   "cell_type": "code",
   "execution_count": 1,
   "metadata": {},
   "outputs": [],
   "source": [
    "dataset_id = \"iml_2018_staging\""
   ]
  },
  {
   "cell_type": "code",
   "execution_count": 2,
   "metadata": {},
   "outputs": [
    {
     "name": "stdout",
     "output_type": "stream",
     "text": [
      "Dataset 'sashimi-266523:iml_2018_staging' successfully created.\n"
     ]
    }
   ],
   "source": [
    "!bq --location=US mk --dataset {dataset_id}"
   ]
  },
  {
   "cell_type": "code",
   "execution_count": 13,
   "metadata": {},
   "outputs": [
    {
     "name": "stdout",
     "output_type": "stream",
     "text": [
      "Waiting on bqjob_r11d7caaec4975b97_0000017176770988_1 ... (2s) Current status: DONE   \n"
     ]
    }
   ],
   "source": [
    "!bq --location=US load --autodetect --allow_quoted_newlines --allow_jagged_rows --ignore_unknown_values \\\n",
    "--source_format=CSV {dataset_id}.public_resources 'gs://iml-2018/public_resources.csv'"
   ]
  },
  {
   "cell_type": "markdown",
   "metadata": {},
   "source": [
    "# Explore data"
   ]
  },
  {
   "cell_type": "code",
   "execution_count": 24,
   "metadata": {},
   "outputs": [
    {
     "data": {
      "text/html": [
       "<div>\n",
       "<style scoped>\n",
       "    .dataframe tbody tr th:only-of-type {\n",
       "        vertical-align: middle;\n",
       "    }\n",
       "\n",
       "    .dataframe tbody tr th {\n",
       "        vertical-align: top;\n",
       "    }\n",
       "\n",
       "    .dataframe thead th {\n",
       "        text-align: right;\n",
       "    }\n",
       "</style>\n",
       "<table border=\"1\" class=\"dataframe\">\n",
       "  <thead>\n",
       "    <tr style=\"text-align: right;\">\n",
       "      <th></th>\n",
       "      <th>DISCIPL</th>\n",
       "      <th>COMMONNAME</th>\n",
       "      <th>ADSTATE</th>\n",
       "      <th>ADCITY</th>\n",
       "      <th>ADZIP5</th>\n",
       "      <th>INCOME15</th>\n",
       "      <th>REVENUE15</th>\n",
       "    </tr>\n",
       "  </thead>\n",
       "  <tbody>\n",
       "    <tr>\n",
       "      <th>0</th>\n",
       "      <td>ART</td>\n",
       "      <td>OSSORIO FOUNDATION</td>\n",
       "      <td>MA</td>\n",
       "      <td>AMHERST</td>\n",
       "      <td>1002</td>\n",
       "      <td>671708</td>\n",
       "      <td></td>\n",
       "    </tr>\n",
       "    <tr>\n",
       "      <th>1</th>\n",
       "      <td>HST</td>\n",
       "      <td>AMHERST HISTORY MUSEUM AT THE STRONG HOUSE</td>\n",
       "      <td>MA</td>\n",
       "      <td>AMHERST</td>\n",
       "      <td>1002</td>\n",
       "      <td>43685</td>\n",
       "      <td>43685</td>\n",
       "    </tr>\n",
       "    <tr>\n",
       "      <th>2</th>\n",
       "      <td>ART</td>\n",
       "      <td>ERIC CARLE MUSEUM OF PICTURE BOOK ART</td>\n",
       "      <td>MA</td>\n",
       "      <td>AMHERST</td>\n",
       "      <td>1002</td>\n",
       "      <td>2789176</td>\n",
       "      <td>2337678</td>\n",
       "    </tr>\n",
       "    <tr>\n",
       "      <th>3</th>\n",
       "      <td>HST</td>\n",
       "      <td>SOUTH HADLEY HISTORICAL</td>\n",
       "      <td>MA</td>\n",
       "      <td>SOUTH HADLEY</td>\n",
       "      <td>1075</td>\n",
       "      <td>153135</td>\n",
       "      <td>153135</td>\n",
       "    </tr>\n",
       "    <tr>\n",
       "      <th>4</th>\n",
       "      <td>BOT</td>\n",
       "      <td>STANLEY PARK OF WESTFIELD</td>\n",
       "      <td>MA</td>\n",
       "      <td>WESTFIELD</td>\n",
       "      <td>1086</td>\n",
       "      <td>4247065</td>\n",
       "      <td></td>\n",
       "    </tr>\n",
       "    <tr>\n",
       "      <th>5</th>\n",
       "      <td>CMU</td>\n",
       "      <td>AMELIA PARK CHILDREN'S MUSEUM</td>\n",
       "      <td>MA</td>\n",
       "      <td>WESTFIELD</td>\n",
       "      <td>1086</td>\n",
       "      <td>152204</td>\n",
       "      <td>152204</td>\n",
       "    </tr>\n",
       "    <tr>\n",
       "      <th>6</th>\n",
       "      <td>ZAW</td>\n",
       "      <td>FOREST PARK ZOOLOGICAL SOCIETY</td>\n",
       "      <td>MA</td>\n",
       "      <td>SPRINGFIELD</td>\n",
       "      <td>1138</td>\n",
       "      <td>842443</td>\n",
       "      <td>801253</td>\n",
       "    </tr>\n",
       "    <tr>\n",
       "      <th>7</th>\n",
       "      <td>ART</td>\n",
       "      <td>BERKSHIRE ART ASSOCIATION</td>\n",
       "      <td>MA</td>\n",
       "      <td>PITTSFIELD</td>\n",
       "      <td>1202</td>\n",
       "      <td>8476</td>\n",
       "      <td>8476</td>\n",
       "    </tr>\n",
       "    <tr>\n",
       "      <th>8</th>\n",
       "      <td>HST</td>\n",
       "      <td>BERKSHIRE SCENIC RAILWAY MUSEUM</td>\n",
       "      <td>MA</td>\n",
       "      <td>LENOX</td>\n",
       "      <td>1240</td>\n",
       "      <td>137445</td>\n",
       "      <td>134744</td>\n",
       "    </tr>\n",
       "    <tr>\n",
       "      <th>9</th>\n",
       "      <td>HST</td>\n",
       "      <td>BIDWELL HOUSE</td>\n",
       "      <td>MA</td>\n",
       "      <td>MONTEREY</td>\n",
       "      <td>1245</td>\n",
       "      <td>308305</td>\n",
       "      <td>113964</td>\n",
       "    </tr>\n",
       "  </tbody>\n",
       "</table>\n",
       "</div>"
      ],
      "text/plain": [
       "  DISCIPL                                  COMMONNAME ADSTATE        ADCITY  \\\n",
       "0     ART                          OSSORIO FOUNDATION      MA       AMHERST   \n",
       "1     HST  AMHERST HISTORY MUSEUM AT THE STRONG HOUSE      MA       AMHERST   \n",
       "2     ART       ERIC CARLE MUSEUM OF PICTURE BOOK ART      MA       AMHERST   \n",
       "3     HST                     SOUTH HADLEY HISTORICAL      MA  SOUTH HADLEY   \n",
       "4     BOT                   STANLEY PARK OF WESTFIELD      MA     WESTFIELD   \n",
       "5     CMU               AMELIA PARK CHILDREN'S MUSEUM      MA     WESTFIELD   \n",
       "6     ZAW              FOREST PARK ZOOLOGICAL SOCIETY      MA   SPRINGFIELD   \n",
       "7     ART                   BERKSHIRE ART ASSOCIATION      MA    PITTSFIELD   \n",
       "8     HST             BERKSHIRE SCENIC RAILWAY MUSEUM      MA         LENOX   \n",
       "9     HST                               BIDWELL HOUSE      MA      MONTEREY   \n",
       "\n",
       "   ADZIP5 INCOME15 REVENUE15  \n",
       "0    1002   671708            \n",
       "1    1002    43685     43685  \n",
       "2    1002  2789176   2337678  \n",
       "3    1075   153135    153135  \n",
       "4    1086  4247065            \n",
       "5    1086   152204    152204  \n",
       "6    1138   842443    801253  \n",
       "7    1202     8476      8476  \n",
       "8    1240   137445    134744  \n",
       "9    1245   308305    113964  "
      ]
     },
     "execution_count": 24,
     "metadata": {},
     "output_type": "execute_result"
    }
   ],
   "source": [
    "%%bigquery\n",
    "select DISCIPL, COMMONNAME, ADSTATE, ADCITY, ADZIP5, INCOME15, REVENUE15 from iml_2018_staging.public_resources\n",
    "where safe_cast(INCOME15 as FLOAT64) > 0\n",
    "limit 10"
   ]
  },
  {
   "cell_type": "code",
   "execution_count": 27,
   "metadata": {},
   "outputs": [
    {
     "data": {
      "text/html": [
       "<div>\n",
       "<style scoped>\n",
       "    .dataframe tbody tr th:only-of-type {\n",
       "        vertical-align: middle;\n",
       "    }\n",
       "\n",
       "    .dataframe tbody tr th {\n",
       "        vertical-align: top;\n",
       "    }\n",
       "\n",
       "    .dataframe thead th {\n",
       "        text-align: right;\n",
       "    }\n",
       "</style>\n",
       "<table border=\"1\" class=\"dataframe\">\n",
       "  <thead>\n",
       "    <tr style=\"text-align: right;\">\n",
       "      <th></th>\n",
       "      <th>GSTREET</th>\n",
       "      <th>ADSTREET</th>\n",
       "    </tr>\n",
       "  </thead>\n",
       "  <tbody>\n",
       "    <tr>\n",
       "      <th>0</th>\n",
       "      <td>3001 JASMINE HILL RD</td>\n",
       "      <td>3001 JASMINE HILL RD</td>\n",
       "    </tr>\n",
       "    <tr>\n",
       "      <th>1</th>\n",
       "      <td>222 E DRAKE AVE</td>\n",
       "      <td>222 E DRAKE AVE</td>\n",
       "    </tr>\n",
       "    <tr>\n",
       "      <th>2</th>\n",
       "      <td>3737 BOB WALLACE AVE</td>\n",
       "      <td>3737 BOB WALLACE AVE</td>\n",
       "    </tr>\n",
       "    <tr>\n",
       "      <th>3</th>\n",
       "      <td>203 TEMPLE AVE N</td>\n",
       "      <td>530 TEMPLE AVENUE NORTH</td>\n",
       "    </tr>\n",
       "    <tr>\n",
       "      <th>4</th>\n",
       "      <td>1731 1ST AVE N</td>\n",
       "      <td>1731 1ST AVE N</td>\n",
       "    </tr>\n",
       "    <tr>\n",
       "      <th>5</th>\n",
       "      <td>2829 W MEIGHAN BLVD</td>\n",
       "      <td>2829 W MEIGHAN BLVD</td>\n",
       "    </tr>\n",
       "    <tr>\n",
       "      <th>6</th>\n",
       "      <td>2056 COUNTY ROAD 161</td>\n",
       "      <td>2056 COUNTY ROAD 161</td>\n",
       "    </tr>\n",
       "    <tr>\n",
       "      <th>7</th>\n",
       "      <td>105 DELONG RD</td>\n",
       "      <td>105 DELONG RD</td>\n",
       "    </tr>\n",
       "    <tr>\n",
       "      <th>8</th>\n",
       "      <td>1417 MILL BAY RD</td>\n",
       "      <td>1417 MILL BAY RD</td>\n",
       "    </tr>\n",
       "    <tr>\n",
       "      <th>9</th>\n",
       "      <td>PO BOX 112772</td>\n",
       "      <td>PO BOX 112772</td>\n",
       "    </tr>\n",
       "  </tbody>\n",
       "</table>\n",
       "</div>"
      ],
      "text/plain": [
       "                GSTREET                 ADSTREET\n",
       "0  3001 JASMINE HILL RD     3001 JASMINE HILL RD\n",
       "1       222 E DRAKE AVE          222 E DRAKE AVE\n",
       "2  3737 BOB WALLACE AVE     3737 BOB WALLACE AVE\n",
       "3      203 TEMPLE AVE N  530 TEMPLE AVENUE NORTH\n",
       "4        1731 1ST AVE N           1731 1ST AVE N\n",
       "5   2829 W MEIGHAN BLVD      2829 W MEIGHAN BLVD\n",
       "6  2056 COUNTY ROAD 161     2056 COUNTY ROAD 161\n",
       "7         105 DELONG RD            105 DELONG RD\n",
       "8      1417 MILL BAY RD         1417 MILL BAY RD\n",
       "9         PO BOX 112772            PO BOX 112772"
      ]
     },
     "execution_count": 27,
     "metadata": {},
     "output_type": "execute_result"
    }
   ],
   "source": [
    "%%bigquery\n",
    "select GSTREET, ADSTREET from iml_2018_staging.public_resources\n",
    "limit 10"
   ]
  },
  {
   "cell_type": "code",
   "execution_count": null,
   "metadata": {},
   "outputs": [],
   "source": []
  }
 ],
 "metadata": {
  "kernelspec": {
   "display_name": "Python 3",
   "language": "python",
   "name": "python3"
  },
  "language_info": {
   "codemirror_mode": {
    "name": "ipython",
    "version": 3
   },
   "file_extension": ".py",
   "mimetype": "text/x-python",
   "name": "python",
   "nbconvert_exporter": "python",
   "pygments_lexer": "ipython3",
   "version": "3.5.3"
  }
 },
 "nbformat": 4,
 "nbformat_minor": 4
}
