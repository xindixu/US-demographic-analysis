{
 "cells": [
  {
   "cell_type": "markdown",
   "metadata": {},
   "source": [
    "# Institute of Museum and Library Services (2018)"
   ]
  },
  {
   "cell_type": "code",
   "execution_count": 1,
   "metadata": {},
   "outputs": [],
   "source": [
    "dataset_id = \"iml_2018_staging\""
   ]
  },
  {
   "cell_type": "code",
   "execution_count": 2,
   "metadata": {},
   "outputs": [
    {
     "name": "stdout",
     "output_type": "stream",
     "text": [
      "Dataset 'sashimi-266523:iml_2018_staging' successfully created.\n"
     ]
    }
   ],
   "source": [
    "!bq --location=US mk --dataset {dataset_id}"
   ]
  },
  {
   "cell_type": "code",
   "execution_count": 13,
   "metadata": {},
   "outputs": [
    {
     "name": "stdout",
     "output_type": "stream",
     "text": [
      "Waiting on bqjob_r11d7caaec4975b97_0000017176770988_1 ... (2s) Current status: DONE   \n"
     ]
    }
   ],
   "source": [
    "!bq --location=US load --autodetect --allow_quoted_newlines --allow_jagged_rows --ignore_unknown_values \\\n",
    "--source_format=CSV {dataset_id}.public_resources 'gs://iml-2018/public_resources.csv'"
   ]
  },
  {
   "cell_type": "markdown",
   "metadata": {},
   "source": [
    "# Explore data"
   ]
  },
  {
   "cell_type": "code",
   "execution_count": 19,
   "metadata": {},
   "outputs": [
    {
     "data": {
      "text/html": [
       "<div>\n",
       "<style scoped>\n",
       "    .dataframe tbody tr th:only-of-type {\n",
       "        vertical-align: middle;\n",
       "    }\n",
       "\n",
       "    .dataframe tbody tr th {\n",
       "        vertical-align: top;\n",
       "    }\n",
       "\n",
       "    .dataframe thead th {\n",
       "        text-align: right;\n",
       "    }\n",
       "</style>\n",
       "<table border=\"1\" class=\"dataframe\">\n",
       "  <thead>\n",
       "    <tr style=\"text-align: right;\">\n",
       "      <th></th>\n",
       "      <th>DISCIPL</th>\n",
       "      <th>COMMONNAME</th>\n",
       "      <th>ADSTATE</th>\n",
       "      <th>ADCITY</th>\n",
       "      <th>ADZIP5</th>\n",
       "      <th>INCOME15</th>\n",
       "      <th>REVENUE15</th>\n",
       "    </tr>\n",
       "  </thead>\n",
       "  <tbody>\n",
       "    <tr>\n",
       "      <th>0</th>\n",
       "      <td>BOT</td>\n",
       "      <td>JASMINE HILL GARDENS AND OUTDOOR MUSEUM</td>\n",
       "      <td>AL</td>\n",
       "      <td>WETUMPKA</td>\n",
       "      <td>36093</td>\n",
       "      <td></td>\n",
       "      <td></td>\n",
       "    </tr>\n",
       "    <tr>\n",
       "      <th>1</th>\n",
       "      <td>ART</td>\n",
       "      <td>JAN DEMPSEY ARTS CENTER</td>\n",
       "      <td>AL</td>\n",
       "      <td>AUBURN</td>\n",
       "      <td>36830</td>\n",
       "      <td></td>\n",
       "      <td></td>\n",
       "    </tr>\n",
       "    <tr>\n",
       "      <th>2</th>\n",
       "      <td>BOT</td>\n",
       "      <td>HUNTSVILLE BOTANICAL GARDEN</td>\n",
       "      <td>AL</td>\n",
       "      <td>HUNTSVILLE</td>\n",
       "      <td>35805</td>\n",
       "      <td></td>\n",
       "      <td></td>\n",
       "    </tr>\n",
       "    <tr>\n",
       "      <th>3</th>\n",
       "      <td>ART</td>\n",
       "      <td>FAYETTE ART MUSEUM</td>\n",
       "      <td>AL</td>\n",
       "      <td>FAYETTE</td>\n",
       "      <td>35555</td>\n",
       "      <td></td>\n",
       "      <td></td>\n",
       "    </tr>\n",
       "    <tr>\n",
       "      <th>4</th>\n",
       "      <td>ART</td>\n",
       "      <td>ALABAMA FOLK ART MUSEUM</td>\n",
       "      <td>AL</td>\n",
       "      <td>BIRMINGHAM</td>\n",
       "      <td>35203</td>\n",
       "      <td></td>\n",
       "      <td></td>\n",
       "    </tr>\n",
       "    <tr>\n",
       "      <th>5</th>\n",
       "      <td>ART</td>\n",
       "      <td>GADSDEN MUSEUM OF ART</td>\n",
       "      <td>AL</td>\n",
       "      <td>GADSDEN</td>\n",
       "      <td>35904</td>\n",
       "      <td></td>\n",
       "      <td></td>\n",
       "    </tr>\n",
       "    <tr>\n",
       "      <th>6</th>\n",
       "      <td>ZAW</td>\n",
       "      <td>ANIMAL HOUSE EXOTIC ANIMALS &amp; OSTRICH FARM</td>\n",
       "      <td>AL</td>\n",
       "      <td>MOULTON</td>\n",
       "      <td>35650</td>\n",
       "      <td></td>\n",
       "      <td></td>\n",
       "    </tr>\n",
       "    <tr>\n",
       "      <th>7</th>\n",
       "      <td>BOT</td>\n",
       "      <td>MCDOWELL ENVIRONMENTAL CENTER</td>\n",
       "      <td>AL</td>\n",
       "      <td>NAUVOO</td>\n",
       "      <td>35578</td>\n",
       "      <td></td>\n",
       "      <td></td>\n",
       "    </tr>\n",
       "    <tr>\n",
       "      <th>8</th>\n",
       "      <td>HST</td>\n",
       "      <td>KODIAK MILITARY HISTORY MUSEUM</td>\n",
       "      <td>AK</td>\n",
       "      <td>KODIAK</td>\n",
       "      <td>99615</td>\n",
       "      <td></td>\n",
       "      <td></td>\n",
       "    </tr>\n",
       "    <tr>\n",
       "      <th>9</th>\n",
       "      <td>CMU</td>\n",
       "      <td>CHILDREN'S MUSEUM OF ALASKA</td>\n",
       "      <td>AK</td>\n",
       "      <td>ANCHORAGE</td>\n",
       "      <td>99511</td>\n",
       "      <td></td>\n",
       "      <td></td>\n",
       "    </tr>\n",
       "  </tbody>\n",
       "</table>\n",
       "</div>"
      ],
      "text/plain": [
       "  DISCIPL                                  COMMONNAME ADSTATE      ADCITY  \\\n",
       "0     BOT     JASMINE HILL GARDENS AND OUTDOOR MUSEUM      AL    WETUMPKA   \n",
       "1     ART                     JAN DEMPSEY ARTS CENTER      AL      AUBURN   \n",
       "2     BOT                 HUNTSVILLE BOTANICAL GARDEN      AL  HUNTSVILLE   \n",
       "3     ART                          FAYETTE ART MUSEUM      AL     FAYETTE   \n",
       "4     ART                     ALABAMA FOLK ART MUSEUM      AL  BIRMINGHAM   \n",
       "5     ART                       GADSDEN MUSEUM OF ART      AL     GADSDEN   \n",
       "6     ZAW  ANIMAL HOUSE EXOTIC ANIMALS & OSTRICH FARM      AL     MOULTON   \n",
       "7     BOT               MCDOWELL ENVIRONMENTAL CENTER      AL      NAUVOO   \n",
       "8     HST              KODIAK MILITARY HISTORY MUSEUM      AK      KODIAK   \n",
       "9     CMU                 CHILDREN'S MUSEUM OF ALASKA      AK   ANCHORAGE   \n",
       "\n",
       "   ADZIP5 INCOME15 REVENUE15  \n",
       "0   36093                     \n",
       "1   36830                     \n",
       "2   35805                     \n",
       "3   35555                     \n",
       "4   35203                     \n",
       "5   35904                     \n",
       "6   35650                     \n",
       "7   35578                     \n",
       "8   99615                     \n",
       "9   99511                     "
      ]
     },
     "execution_count": 19,
     "metadata": {},
     "output_type": "execute_result"
    }
   ],
   "source": [
    "%%bigquery\n",
    "select DISCIPL, COMMONNAME, ADSTATE, ADCITY, ADZIP5, INCOME15, REVENUE15 from iml_2018_staging.public_resources\n",
    "where INCOME15 is not Null\n",
    "limit 10"
   ]
  },
  {
   "cell_type": "code",
   "execution_count": null,
   "metadata": {},
   "outputs": [],
   "source": []
  }
 ],
 "metadata": {
  "kernelspec": {
   "display_name": "Python 3",
   "language": "python",
   "name": "python3"
  },
  "language_info": {
   "codemirror_mode": {
    "name": "ipython",
    "version": 3
   },
   "file_extension": ".py",
   "mimetype": "text/x-python",
   "name": "python",
   "nbconvert_exporter": "python",
   "pygments_lexer": "ipython3",
   "version": "3.5.3"
  }
 },
 "nbformat": 4,
 "nbformat_minor": 4
}
