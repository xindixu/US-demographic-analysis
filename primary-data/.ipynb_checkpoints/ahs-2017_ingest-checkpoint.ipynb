{
 "cells": [
  {
   "cell_type": "markdown",
   "metadata": {},
   "source": [
    "# American Housing Survey (2017)"
   ]
  },
  {
   "cell_type": "markdown",
   "metadata": {},
   "source": [
    "Use this [table key](https://www.census.gov/data-tools/demo/codebook/ahs/ahsdict.html?s_year=2017&s_topic=40EB020630AA1409581A967631144B46,20C2F713088C73BC8C9BE4A2990B040A,D18F3B39611802F0564BD762BAF99B2D,F97310F1003D402DF4FAED1A1FAC3D2A&s_searchvalue=) to search for and understand data!"
   ]
  },
  {
   "cell_type": "code",
   "execution_count": null,
   "metadata": {},
   "outputs": [],
   "source": [
    "ahs_2017 = \"ahs_2017\""
   ]
  },
  {
   "cell_type": "code",
   "execution_count": 2,
   "metadata": {},
   "outputs": [
    {
     "name": "stdout",
     "output_type": "stream",
     "text": [
      "BigQuery error in mk operation: Dataset 'sashimi-266523:ahs_2017' already\n",
      "exists.\n"
     ]
    }
   ],
   "source": [
    "!bq --location=US mk --dataset {ahs_2017}"
   ]
  },
  {
   "cell_type": "markdown",
   "metadata": {},
   "source": [
    "## Load data from bucket and csv file to create table: person, mortage, project"
   ]
  },
  {
   "cell_type": "code",
   "execution_count": 7,
   "metadata": {},
   "outputs": [
    {
     "name": "stdout",
     "output_type": "stream",
     "text": [
      "Waiting on bqjob_r264da81ab7c8fba3_00000170139beb60_1 ... (23s) Current status: DONE   \n"
     ]
    }
   ],
   "source": [
    "!bq --location=US load --autodetect --skip_leading_rows=1 \\\n",
    "--source_format=CSV {ahs_2017}.person \\\n",
    "'gs://ahs-2017/person.csv'"
   ]
  },
  {
   "cell_type": "code",
   "execution_count": 9,
   "metadata": {},
   "outputs": [
    {
     "name": "stdout",
     "output_type": "stream",
     "text": [
      "Waiting on bqjob_r5737f4262a25afe8_00000170139d50c2_1 ... (3s) Current status: DONE   \n"
     ]
    }
   ],
   "source": [
    "!bq --location=US load --autodetect --skip_leading_rows=1 \\\n",
    "--source_format=CSV {ahs_2017}.mortgage \\\n",
    "'gs://ahs-2017/mortgage.csv'"
   ]
  },
  {
   "cell_type": "code",
   "execution_count": 10,
   "metadata": {},
   "outputs": [
    {
     "name": "stdout",
     "output_type": "stream",
     "text": [
      "Waiting on bqjob_r76d3cc29e792ab92_00000170139db77f_1 ... (15s) Current status: DONE   \n"
     ]
    }
   ],
   "source": [
    "!bq --location=US load --autodetect --skip_leading_rows=1 \\\n",
    "--source_format=CSV {ahs_2017}.project \\\n",
    "'gs://ahs-2017/project.csv'"
   ]
  },
  {
   "cell_type": "markdown",
   "metadata": {},
   "source": [
    "## Some basic info"
   ]
  },
  {
   "cell_type": "markdown",
   "metadata": {},
   "source": [
    "### Household"
   ]
  },
  {
   "cell_type": "code",
   "execution_count": 15,
   "metadata": {},
   "outputs": [
    {
     "data": {
      "text/html": [
       "<div>\n",
       "<style scoped>\n",
       "    .dataframe tbody tr th:only-of-type {\n",
       "        vertical-align: middle;\n",
       "    }\n",
       "\n",
       "    .dataframe tbody tr th {\n",
       "        vertical-align: top;\n",
       "    }\n",
       "\n",
       "    .dataframe thead th {\n",
       "        text-align: right;\n",
       "    }\n",
       "</style>\n",
       "<table border=\"1\" class=\"dataframe\">\n",
       "  <thead>\n",
       "    <tr style=\"text-align: right;\">\n",
       "      <th></th>\n",
       "      <th>MARKETVAL</th>\n",
       "      <th>TOTROOMS</th>\n",
       "      <th>JDISHH</th>\n",
       "    </tr>\n",
       "  </thead>\n",
       "  <tbody>\n",
       "    <tr>\n",
       "      <th>0</th>\n",
       "      <td>9999998</td>\n",
       "      <td>10</td>\n",
       "      <td>'0'</td>\n",
       "    </tr>\n",
       "    <tr>\n",
       "      <th>1</th>\n",
       "      <td>9999998</td>\n",
       "      <td>11</td>\n",
       "      <td>'0'</td>\n",
       "    </tr>\n",
       "    <tr>\n",
       "      <th>2</th>\n",
       "      <td>9999998</td>\n",
       "      <td>10</td>\n",
       "      <td>'0'</td>\n",
       "    </tr>\n",
       "    <tr>\n",
       "      <th>3</th>\n",
       "      <td>9999998</td>\n",
       "      <td>9</td>\n",
       "      <td>'0'</td>\n",
       "    </tr>\n",
       "    <tr>\n",
       "      <th>4</th>\n",
       "      <td>9999998</td>\n",
       "      <td>4</td>\n",
       "      <td>'0'</td>\n",
       "    </tr>\n",
       "    <tr>\n",
       "      <th>...</th>\n",
       "      <td>...</td>\n",
       "      <td>...</td>\n",
       "      <td>...</td>\n",
       "    </tr>\n",
       "    <tr>\n",
       "      <th>95</th>\n",
       "      <td>4693050</td>\n",
       "      <td>8</td>\n",
       "      <td>'0'</td>\n",
       "    </tr>\n",
       "    <tr>\n",
       "      <th>96</th>\n",
       "      <td>4670837</td>\n",
       "      <td>12</td>\n",
       "      <td>'0'</td>\n",
       "    </tr>\n",
       "    <tr>\n",
       "      <th>97</th>\n",
       "      <td>4624715</td>\n",
       "      <td>3</td>\n",
       "      <td>'0'</td>\n",
       "    </tr>\n",
       "    <tr>\n",
       "      <th>98</th>\n",
       "      <td>4620781</td>\n",
       "      <td>8</td>\n",
       "      <td>'0'</td>\n",
       "    </tr>\n",
       "    <tr>\n",
       "      <th>99</th>\n",
       "      <td>4551825</td>\n",
       "      <td>9</td>\n",
       "      <td>'0'</td>\n",
       "    </tr>\n",
       "  </tbody>\n",
       "</table>\n",
       "<p>100 rows × 3 columns</p>\n",
       "</div>"
      ],
      "text/plain": [
       "    MARKETVAL  TOTROOMS JDISHH\n",
       "0     9999998        10    '0'\n",
       "1     9999998        11    '0'\n",
       "2     9999998        10    '0'\n",
       "3     9999998         9    '0'\n",
       "4     9999998         4    '0'\n",
       "..        ...       ...    ...\n",
       "95    4693050         8    '0'\n",
       "96    4670837        12    '0'\n",
       "97    4624715         3    '0'\n",
       "98    4620781         8    '0'\n",
       "99    4551825         9    '0'\n",
       "\n",
       "[100 rows x 3 columns]"
      ]
     },
     "execution_count": 15,
     "metadata": {},
     "output_type": "execute_result"
    }
   ],
   "source": [
    "%%bigquery\n",
    "select MARKETVAL,TOTROOMS from ahs_2017.household \n",
    "order by MARKETVAL desc \n",
    "limit 100"
   ]
  },
  {
   "cell_type": "markdown",
   "metadata": {},
   "source": [
    "### Person"
   ]
  },
  {
   "cell_type": "code",
   "execution_count": 17,
   "metadata": {},
   "outputs": [
    {
     "data": {
      "text/html": [
       "<div>\n",
       "<style scoped>\n",
       "    .dataframe tbody tr th:only-of-type {\n",
       "        vertical-align: middle;\n",
       "    }\n",
       "\n",
       "    .dataframe tbody tr th {\n",
       "        vertical-align: top;\n",
       "    }\n",
       "\n",
       "    .dataframe thead th {\n",
       "        text-align: right;\n",
       "    }\n",
       "</style>\n",
       "<table border=\"1\" class=\"dataframe\">\n",
       "  <thead>\n",
       "    <tr style=\"text-align: right;\">\n",
       "      <th></th>\n",
       "      <th>SEX</th>\n",
       "      <th>AGE</th>\n",
       "      <th>RACE</th>\n",
       "      <th>GRAD</th>\n",
       "      <th>CITSHP</th>\n",
       "      <th>NATVTY</th>\n",
       "    </tr>\n",
       "  </thead>\n",
       "  <tbody>\n",
       "    <tr>\n",
       "      <th>0</th>\n",
       "      <td>'2'</td>\n",
       "      <td>85</td>\n",
       "      <td>'01'</td>\n",
       "      <td>'37'</td>\n",
       "      <td>'1'</td>\n",
       "      <td>'057'</td>\n",
       "    </tr>\n",
       "    <tr>\n",
       "      <th>1</th>\n",
       "      <td>'2'</td>\n",
       "      <td>85</td>\n",
       "      <td>'01'</td>\n",
       "      <td>'39'</td>\n",
       "      <td>'1'</td>\n",
       "      <td>'057'</td>\n",
       "    </tr>\n",
       "    <tr>\n",
       "      <th>2</th>\n",
       "      <td>'1'</td>\n",
       "      <td>85</td>\n",
       "      <td>'01'</td>\n",
       "      <td>'36'</td>\n",
       "      <td>'1'</td>\n",
       "      <td>'057'</td>\n",
       "    </tr>\n",
       "    <tr>\n",
       "      <th>3</th>\n",
       "      <td>'1'</td>\n",
       "      <td>85</td>\n",
       "      <td>'01'</td>\n",
       "      <td>'31'</td>\n",
       "      <td>'1'</td>\n",
       "      <td>'057'</td>\n",
       "    </tr>\n",
       "    <tr>\n",
       "      <th>4</th>\n",
       "      <td>'2'</td>\n",
       "      <td>85</td>\n",
       "      <td>'01'</td>\n",
       "      <td>'39'</td>\n",
       "      <td>'1'</td>\n",
       "      <td>'057'</td>\n",
       "    </tr>\n",
       "    <tr>\n",
       "      <th>...</th>\n",
       "      <td>...</td>\n",
       "      <td>...</td>\n",
       "      <td>...</td>\n",
       "      <td>...</td>\n",
       "      <td>...</td>\n",
       "      <td>...</td>\n",
       "    </tr>\n",
       "    <tr>\n",
       "      <th>95</th>\n",
       "      <td>'2'</td>\n",
       "      <td>85</td>\n",
       "      <td>'01'</td>\n",
       "      <td>'41'</td>\n",
       "      <td>'1'</td>\n",
       "      <td>'057'</td>\n",
       "    </tr>\n",
       "    <tr>\n",
       "      <th>96</th>\n",
       "      <td>'2'</td>\n",
       "      <td>85</td>\n",
       "      <td>'02'</td>\n",
       "      <td>'40'</td>\n",
       "      <td>'1'</td>\n",
       "      <td>'057'</td>\n",
       "    </tr>\n",
       "    <tr>\n",
       "      <th>97</th>\n",
       "      <td>'1'</td>\n",
       "      <td>85</td>\n",
       "      <td>'02'</td>\n",
       "      <td>'35'</td>\n",
       "      <td>'1'</td>\n",
       "      <td>'057'</td>\n",
       "    </tr>\n",
       "    <tr>\n",
       "      <th>98</th>\n",
       "      <td>'2'</td>\n",
       "      <td>85</td>\n",
       "      <td>'02'</td>\n",
       "      <td>'44'</td>\n",
       "      <td>'1'</td>\n",
       "      <td>'057'</td>\n",
       "    </tr>\n",
       "    <tr>\n",
       "      <th>99</th>\n",
       "      <td>'1'</td>\n",
       "      <td>85</td>\n",
       "      <td>'01'</td>\n",
       "      <td>'46'</td>\n",
       "      <td>'1'</td>\n",
       "      <td>'057'</td>\n",
       "    </tr>\n",
       "  </tbody>\n",
       "</table>\n",
       "<p>100 rows × 6 columns</p>\n",
       "</div>"
      ],
      "text/plain": [
       "    SEX  AGE  RACE  GRAD CITSHP NATVTY\n",
       "0   '2'   85  '01'  '37'    '1'  '057'\n",
       "1   '2'   85  '01'  '39'    '1'  '057'\n",
       "2   '1'   85  '01'  '36'    '1'  '057'\n",
       "3   '1'   85  '01'  '31'    '1'  '057'\n",
       "4   '2'   85  '01'  '39'    '1'  '057'\n",
       "..  ...  ...   ...   ...    ...    ...\n",
       "95  '2'   85  '01'  '41'    '1'  '057'\n",
       "96  '2'   85  '02'  '40'    '1'  '057'\n",
       "97  '1'   85  '02'  '35'    '1'  '057'\n",
       "98  '2'   85  '02'  '44'    '1'  '057'\n",
       "99  '1'   85  '01'  '46'    '1'  '057'\n",
       "\n",
       "[100 rows x 6 columns]"
      ]
     },
     "execution_count": 17,
     "metadata": {},
     "output_type": "execute_result"
    }
   ],
   "source": [
    "%%bigquery\n",
    "select SEX, AGE, RACE, GRAD, CITSHP, NATVTY from ahs_2017.person\n",
    "order by Age desc\n",
    "limit 100"
   ]
  },
  {
   "cell_type": "code",
   "execution_count": null,
   "metadata": {},
   "outputs": [],
   "source": []
  }
 ],
 "metadata": {
  "kernelspec": {
   "display_name": "Python 3",
   "language": "python",
   "name": "python3"
  },
  "language_info": {
   "codemirror_mode": {
    "name": "ipython",
    "version": 3
   },
   "file_extension": ".py",
   "mimetype": "text/x-python",
   "name": "python",
   "nbconvert_exporter": "python",
   "pygments_lexer": "ipython3",
   "version": "3.5.3"
  }
 },
 "nbformat": 4,
 "nbformat_minor": 4
}
