{
 "cells": [
  {
   "cell_type": "markdown",
   "metadata": {},
   "source": [
    "# American Community Survey (2018)"
   ]
  },
  {
   "cell_type": "code",
   "execution_count": null,
   "metadata": {},
   "outputs": [],
   "source": [
    "acs = \"acs_2018\""
   ]
  },
  {
   "cell_type": "code",
   "execution_count": 31,
   "metadata": {},
   "outputs": [
    {
     "name": "stdout",
     "output_type": "stream",
     "text": [
      "Executing query with job ID: 0a0be701-f317-4fc2-b9e6-68b402d1ca01\n",
      "Query executing: 0.29s"
     ]
    },
    {
     "name": "stderr",
     "output_type": "stream",
     "text": [
      "\n",
      "ERROR:\n",
      " 404 Not found: Dataset sashimi-266523:acs_2018_deleted_row was not found in location US\n",
      "\n",
      "(job ID: 0a0be701-f317-4fc2-b9e6-68b402d1ca01)\n",
      "\n",
      "                                           -----Query Job SQL Follows-----                                           \n",
      "\n",
      "    |    .    |    .    |    .    |    .    |    .    |    .    |    .    |    .    |    .    |    .    |    .    |\n",
      "   1:select NAME, DP03_0002PE as Labor_Force, DP03_0014E as Children_In_HouseHold from acs_2018_deleted_row.economics\n",
      "   2:where DP03_0014E is not null\n",
      "   3:order by DP03_0014E desc\n",
      "   4:limit 10\n",
      "    |    .    |    .    |    .    |    .    |    .    |    .    |    .    |    .    |    .    |    .    |    .    |\n"
     ]
    }
   ],
   "source": [
    "%%bigquery\n",
    "select NAME, DP03_0002PE as Labor_Force, DP03_0014E as Children_In_HouseHold from acs_2018_deleted_row.economics\n",
    "where DP03_0014E is not null\n",
    "order by DP03_0014E desc\n",
    "limit 10"
   ]
  },
  {
   "cell_type": "code",
   "execution_count": null,
   "metadata": {},
   "outputs": [],
   "source": [
    "%%bigquery\n",
    "select NAME, DP03_0033E as Argiculture, DP03_0034E as Construction from acs_2018_deleted_row.economics\n",
    "where DP03_0014E is not null\n",
    "order by DP03_0014E desc\n",
    "limit 10"
   ]
  }
 ],
 "metadata": {
  "kernelspec": {
   "display_name": "Python 3",
   "language": "python",
   "name": "python3"
  },
  "language_info": {
   "codemirror_mode": {
    "name": "ipython",
    "version": 3
   },
   "file_extension": ".py",
   "mimetype": "text/x-python",
   "name": "python",
   "nbconvert_exporter": "python",
   "pygments_lexer": "ipython3",
   "version": "3.5.3"
  }
 },
 "nbformat": 4,
 "nbformat_minor": 4
}
