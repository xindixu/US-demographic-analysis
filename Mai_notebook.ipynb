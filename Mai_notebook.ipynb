{
 "cells": [
  {
   "cell_type": "markdown",
   "metadata": {},
   "source": [
    "##### -- Create the Housing_Unit_Status Table"
   ]
  },
  {
   "cell_type": "code",
   "execution_count": 5,
   "metadata": {},
   "outputs": [
    {
     "data": {
      "text/html": [
       "<div>\n",
       "<style scoped>\n",
       "    .dataframe tbody tr th:only-of-type {\n",
       "        vertical-align: middle;\n",
       "    }\n",
       "\n",
       "    .dataframe tbody tr th {\n",
       "        vertical-align: top;\n",
       "    }\n",
       "\n",
       "    .dataframe thead th {\n",
       "        text-align: right;\n",
       "    }\n",
       "</style>\n",
       "<table border=\"1\" class=\"dataframe\">\n",
       "  <thead>\n",
       "    <tr style=\"text-align: right;\">\n",
       "      <th></th>\n",
       "    </tr>\n",
       "  </thead>\n",
       "  <tbody>\n",
       "  </tbody>\n",
       "</table>\n",
       "</div>"
      ],
      "text/plain": [
       "Empty DataFrame\n",
       "Columns: []\n",
       "Index: []"
      ]
     },
     "execution_count": 5,
     "metadata": {},
     "output_type": "execute_result"
    }
   ],
   "source": [
    "%%bigquery\n",
    "create table acs_2018_modeled.Housing_Unit_Status as\n",
    "select distinct NAME, DP04_0001E, \n",
    "cast(replace(DP04_0002PE, '-', '0') as FLOAT64) as DP04_0002PE, \n",
    "cast(replace(DP04_0003PE, '-', '0') as FLOAT64) as DP04_0003PE,\n",
    "DP04_0006E\n",
    "from acs_2018_staging.housing\n",
    "where NAME is not null"
   ]
  },
  {
   "cell_type": "markdown",
   "metadata": {},
   "source": [
    "##### -- Create Housing_Unit table"
   ]
  },
  {
   "cell_type": "code",
   "execution_count": 17,
   "metadata": {},
   "outputs": [
    {
     "data": {
      "text/html": [
       "<div>\n",
       "<style scoped>\n",
       "    .dataframe tbody tr th:only-of-type {\n",
       "        vertical-align: middle;\n",
       "    }\n",
       "\n",
       "    .dataframe tbody tr th {\n",
       "        vertical-align: top;\n",
       "    }\n",
       "\n",
       "    .dataframe thead th {\n",
       "        text-align: right;\n",
       "    }\n",
       "</style>\n",
       "<table border=\"1\" class=\"dataframe\">\n",
       "  <thead>\n",
       "    <tr style=\"text-align: right;\">\n",
       "      <th></th>\n",
       "    </tr>\n",
       "  </thead>\n",
       "  <tbody>\n",
       "  </tbody>\n",
       "</table>\n",
       "</div>"
      ],
      "text/plain": [
       "Empty DataFrame\n",
       "Columns: []\n",
       "Index: []"
      ]
     },
     "execution_count": 17,
     "metadata": {},
     "output_type": "execute_result"
    }
   ],
   "source": [
    "%%bigquery\n",
    "create table acs_2018_modeled.Housing_Unit as\n",
    "select distinct NAME, \n",
    "cast(replace(DP04_0007PE, '-', '0') as FLOAT64) as DP04_0007PE, \n",
    "cast(replace(DP04_0008PE, '-', '0') as FLOAT64) as DP04_0008PE,\n",
    "cast(replace(DP04_0009PE, '-', '0') as FLOAT64) as DP04_0009PE, \n",
    "cast(replace(DP04_0010PE, '-', '0') as FLOAT64) as DP04_0010PE, \n",
    "cast(replace(DP04_0011PE, '-', '0') as FLOAT64) as DP04_0011PE, \n",
    "cast(replace(DP04_0012PE, '-', '0') as FLOAT64) as DP04_0012PE,\n",
    "cast(replace(DP04_0013PE, '-', '0') as FLOAT64) as DP04_0013PE, \n",
    "cast(replace(DP04_0014PE, '-', '0') as FLOAT64) as DP04_0014PE, \n",
    "cast(replace(DP04_0015PE, '-', '0') as FLOAT64) as DP04_0015PE\n",
    "from acs_2018_staging.housing\n",
    "where NAME is not null"
   ]
  },
  {
   "cell_type": "markdown",
   "metadata": {},
   "source": [
    "##### -- Create Built_year table"
   ]
  },
  {
   "cell_type": "code",
   "execution_count": 21,
   "metadata": {},
   "outputs": [
    {
     "data": {
      "text/html": [
       "<div>\n",
       "<style scoped>\n",
       "    .dataframe tbody tr th:only-of-type {\n",
       "        vertical-align: middle;\n",
       "    }\n",
       "\n",
       "    .dataframe tbody tr th {\n",
       "        vertical-align: top;\n",
       "    }\n",
       "\n",
       "    .dataframe thead th {\n",
       "        text-align: right;\n",
       "    }\n",
       "</style>\n",
       "<table border=\"1\" class=\"dataframe\">\n",
       "  <thead>\n",
       "    <tr style=\"text-align: right;\">\n",
       "      <th></th>\n",
       "    </tr>\n",
       "  </thead>\n",
       "  <tbody>\n",
       "  </tbody>\n",
       "</table>\n",
       "</div>"
      ],
      "text/plain": [
       "Empty DataFrame\n",
       "Columns: []\n",
       "Index: []"
      ]
     },
     "execution_count": 21,
     "metadata": {},
     "output_type": "execute_result"
    }
   ],
   "source": [
    "%%bigquery\n",
    "create table acs_2018_modeled.Built_year as\n",
    "select distinct NAME, \n",
    "cast(replace(DP04_0017PE, '-', '0') as FLOAT64) as DP04_0017PE, \n",
    "cast(replace(DP04_0018PE, '-', '0') as FLOAT64) as DP04_0018PE,\n",
    "cast(replace(DP04_0019PE, '-', '0') as FLOAT64) as DP04_0019PE, \n",
    "cast(replace(DP04_0020PE, '-', '0') as FLOAT64) as DP04_0020PE, \n",
    "cast(replace(DP04_0021PE, '-', '0') as FLOAT64) as DP04_0021PE, \n",
    "cast(replace(DP04_0022PE, '-', '0') as FLOAT64) as DP04_0022PE,\n",
    "cast(replace(DP04_0023PE, '-', '0') as FLOAT64) as DP04_0023PE, \n",
    "cast(replace(DP04_0024PE, '-', '0') as FLOAT64) as DP04_0024PE, \n",
    "cast(replace(DP04_0025PE, '-', '0') as FLOAT64) as DP04_0025PE, \n",
    "cast(replace(DP04_0026PE, '-', '0') as FLOAT64) as DP04_0026PE\n",
    "from acs_2018_staging.housing\n",
    "where NAME is not null"
   ]
  },
  {
   "cell_type": "markdown",
   "metadata": {},
   "source": [
    "##### -- Create Housing_Value table"
   ]
  },
  {
   "cell_type": "code",
   "execution_count": 24,
   "metadata": {},
   "outputs": [
    {
     "data": {
      "text/html": [
       "<div>\n",
       "<style scoped>\n",
       "    .dataframe tbody tr th:only-of-type {\n",
       "        vertical-align: middle;\n",
       "    }\n",
       "\n",
       "    .dataframe tbody tr th {\n",
       "        vertical-align: top;\n",
       "    }\n",
       "\n",
       "    .dataframe thead th {\n",
       "        text-align: right;\n",
       "    }\n",
       "</style>\n",
       "<table border=\"1\" class=\"dataframe\">\n",
       "  <thead>\n",
       "    <tr style=\"text-align: right;\">\n",
       "      <th></th>\n",
       "    </tr>\n",
       "  </thead>\n",
       "  <tbody>\n",
       "  </tbody>\n",
       "</table>\n",
       "</div>"
      ],
      "text/plain": [
       "Empty DataFrame\n",
       "Columns: []\n",
       "Index: []"
      ]
     },
     "execution_count": 24,
     "metadata": {},
     "output_type": "execute_result"
    }
   ],
   "source": [
    "%%bigquery\n",
    "create table acs_2018_modeled.Housing_Value as\n",
    "select distinct NAME, \n",
    "cast(replace(DP04_0081PE, '-', '0') as FLOAT64) as DP04_0081PE, \n",
    "cast(replace(DP04_0082PE, '-', '0') as FLOAT64) as DP04_0082PE,\n",
    "cast(replace(DP04_0083PE, '-', '0') as FLOAT64) as DP04_0083PE, \n",
    "cast(replace(DP04_0084PE, '-', '0') as FLOAT64) as DP04_0084PE, \n",
    "cast(replace(DP04_0085PE, '-', '0') as FLOAT64) as DP04_0085PE, \n",
    "cast(replace(DP04_0086PE, '-', '0') as FLOAT64) as DP04_0086PE,\n",
    "cast(replace(DP04_0087PE, '-', '0') as FLOAT64) as DP04_0087PE, \n",
    "cast(replace(DP04_0088PE, '-', '0') as FLOAT64) as DP04_0088PE\n",
    "from acs_2018_staging.housing\n",
    "where NAME is not null"
   ]
  },
  {
   "cell_type": "markdown",
   "metadata": {},
   "source": [
    "##### -- Create PrivatePublic_School_Enrollment table"
   ]
  },
  {
   "cell_type": "code",
   "execution_count": 1,
   "metadata": {},
   "outputs": [
    {
     "data": {
      "text/html": [
       "<div>\n",
       "<style scoped>\n",
       "    .dataframe tbody tr th:only-of-type {\n",
       "        vertical-align: middle;\n",
       "    }\n",
       "\n",
       "    .dataframe tbody tr th {\n",
       "        vertical-align: top;\n",
       "    }\n",
       "\n",
       "    .dataframe thead th {\n",
       "        text-align: right;\n",
       "    }\n",
       "</style>\n",
       "<table border=\"1\" class=\"dataframe\">\n",
       "  <thead>\n",
       "    <tr style=\"text-align: right;\">\n",
       "      <th></th>\n",
       "    </tr>\n",
       "  </thead>\n",
       "  <tbody>\n",
       "  </tbody>\n",
       "</table>\n",
       "</div>"
      ],
      "text/plain": [
       "Empty DataFrame\n",
       "Columns: []\n",
       "Index: []"
      ]
     },
     "execution_count": 1,
     "metadata": {},
     "output_type": "execute_result"
    }
   ],
   "source": [
    "%%bigquery\n",
    "create table acs_2018_modeled.PrivatePublic_School_Enrollment as\n",
    "select distinct NAME, \n",
    "S1401_C03_008E, \n",
    "S1401_C05_008E,\n",
    "S1401_C03_009E, \n",
    "S1401_C05_009E\n",
    "from acs_2018_staging.school_enrollment\n",
    "where NAME is not null"
   ]
  },
  {
   "cell_type": "markdown",
   "metadata": {},
   "source": [
    "##### -- Create General_School_Enrollment table"
   ]
  },
  {
   "cell_type": "code",
   "execution_count": 4,
   "metadata": {},
   "outputs": [
    {
     "data": {
      "text/html": [
       "<div>\n",
       "<style scoped>\n",
       "    .dataframe tbody tr th:only-of-type {\n",
       "        vertical-align: middle;\n",
       "    }\n",
       "\n",
       "    .dataframe tbody tr th {\n",
       "        vertical-align: top;\n",
       "    }\n",
       "\n",
       "    .dataframe thead th {\n",
       "        text-align: right;\n",
       "    }\n",
       "</style>\n",
       "<table border=\"1\" class=\"dataframe\">\n",
       "  <thead>\n",
       "    <tr style=\"text-align: right;\">\n",
       "      <th></th>\n",
       "    </tr>\n",
       "  </thead>\n",
       "  <tbody>\n",
       "  </tbody>\n",
       "</table>\n",
       "</div>"
      ],
      "text/plain": [
       "Empty DataFrame\n",
       "Columns: []\n",
       "Index: []"
      ]
     },
     "execution_count": 4,
     "metadata": {},
     "output_type": "execute_result"
    }
   ],
   "source": [
    "%%bigquery\n",
    "create table acs_2018_modeled.General_School_Enrollment as\n",
    "select distinct NAME, \n",
    "S1401_C01_004E, \n",
    "S1401_C01_005E, \n",
    "S1401_C01_006E, \n",
    "S1401_C01_007E, \n",
    "S1401_C01_008E,\n",
    "S1401_C01_009E\n",
    "from acs_2018_staging.school_enrollment\n",
    "where NAME is not null"
   ]
  }
 ],
 "metadata": {
  "kernelspec": {
   "display_name": "Python 3",
   "language": "python",
   "name": "python3"
  },
  "language_info": {
   "codemirror_mode": {
    "name": "ipython",
    "version": 3
   },
   "file_extension": ".py",
   "mimetype": "text/x-python",
   "name": "python",
   "nbconvert_exporter": "python",
   "pygments_lexer": "ipython3",
   "version": "3.5.3"
  }
 },
 "nbformat": 4,
 "nbformat_minor": 4
}
