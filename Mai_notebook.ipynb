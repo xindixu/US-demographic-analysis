{
 "cells": [
  {
   "cell_type": "markdown",
   "metadata": {},
   "source": [
    "##### -- Create the Housing_Unit_Status Table"
   ]
  },
  {
   "cell_type": "code",
   "execution_count": 5,
   "metadata": {},
   "outputs": [
    {
     "data": {
      "text/html": [
       "<div>\n",
       "<style scoped>\n",
       "    .dataframe tbody tr th:only-of-type {\n",
       "        vertical-align: middle;\n",
       "    }\n",
       "\n",
       "    .dataframe tbody tr th {\n",
       "        vertical-align: top;\n",
       "    }\n",
       "\n",
       "    .dataframe thead th {\n",
       "        text-align: right;\n",
       "    }\n",
       "</style>\n",
       "<table border=\"1\" class=\"dataframe\">\n",
       "  <thead>\n",
       "    <tr style=\"text-align: right;\">\n",
       "      <th></th>\n",
       "    </tr>\n",
       "  </thead>\n",
       "  <tbody>\n",
       "  </tbody>\n",
       "</table>\n",
       "</div>"
      ],
      "text/plain": [
       "Empty DataFrame\n",
       "Columns: []\n",
       "Index: []"
      ]
     },
     "execution_count": 5,
     "metadata": {},
     "output_type": "execute_result"
    }
   ],
   "source": [
    "%%bigquery\n",
    "create table acs_2018_modeled.Housing_Unit_Status as\n",
    "select distinct NAME, DP04_0001E, cast(replace(DP04_0002PE,\n",
    "'-', '0') as FLOAT64) as DP04_0002PE, cast(replace(\n",
    "DP04_0003PE,'-', '0') as FLOAT64) as DP04_0003PE,\n",
    "DP04_0006E\n",
    "from acs_2018_staging.housing\n",
    "where NAME is not null"
   ]
  },
  {
   "cell_type": "code",
   "execution_count": 19,
   "metadata": {},
   "outputs": [
    {
     "data": {
      "text/html": [
       "<div>\n",
       "<style scoped>\n",
       "    .dataframe tbody tr th:only-of-type {\n",
       "        vertical-align: middle;\n",
       "    }\n",
       "\n",
       "    .dataframe tbody tr th {\n",
       "        vertical-align: top;\n",
       "    }\n",
       "\n",
       "    .dataframe thead th {\n",
       "        text-align: right;\n",
       "    }\n",
       "</style>\n",
       "<table border=\"1\" class=\"dataframe\">\n",
       "  <thead>\n",
       "    <tr style=\"text-align: right;\">\n",
       "      <th></th>\n",
       "      <th>NAME</th>\n",
       "      <th>DP04_0001E</th>\n",
       "      <th>DP04_0002PE</th>\n",
       "      <th>DP04_0003PE</th>\n",
       "      <th>DP04_0006E</th>\n",
       "    </tr>\n",
       "  </thead>\n",
       "  <tbody>\n",
       "    <tr>\n",
       "      <th>0</th>\n",
       "      <td>ZCTA5 00775</td>\n",
       "      <td>1494</td>\n",
       "      <td>31.1</td>\n",
       "      <td>68.9</td>\n",
       "      <td>1494</td>\n",
       "    </tr>\n",
       "  </tbody>\n",
       "</table>\n",
       "</div>"
      ],
      "text/plain": [
       "          NAME  DP04_0001E DP04_0002PE DP04_0003PE  DP04_0006E\n",
       "0  ZCTA5 00775        1494        31.1        68.9        1494"
      ]
     },
     "execution_count": 19,
     "metadata": {},
     "output_type": "execute_result"
    }
   ],
   "source": [
    "%%bigquery\n",
    "select NAME, DP04_0001E, DP04_0002PE,\n",
    "DP04_0003PE, DP04_0006E\n",
    "from acs_2018_staging.housing\n",
    "where NAME = 'ZCTA5 00775'\n",
    "limit 10"
   ]
  },
  {
   "cell_type": "code",
   "execution_count": 16,
   "metadata": {},
   "outputs": [
    {
     "data": {
      "text/html": [
       "<div>\n",
       "<style scoped>\n",
       "    .dataframe tbody tr th:only-of-type {\n",
       "        vertical-align: middle;\n",
       "    }\n",
       "\n",
       "    .dataframe tbody tr th {\n",
       "        vertical-align: top;\n",
       "    }\n",
       "\n",
       "    .dataframe thead th {\n",
       "        text-align: right;\n",
       "    }\n",
       "</style>\n",
       "<table border=\"1\" class=\"dataframe\">\n",
       "  <thead>\n",
       "    <tr style=\"text-align: right;\">\n",
       "      <th></th>\n",
       "      <th>NAME</th>\n",
       "      <th>DP04_0001E</th>\n",
       "      <th>DP04_0002PE</th>\n",
       "      <th>DP04_0003PE</th>\n",
       "      <th>DP04_0006E</th>\n",
       "    </tr>\n",
       "  </thead>\n",
       "  <tbody>\n",
       "    <tr>\n",
       "      <th>0</th>\n",
       "      <td>ZCTA5 00775</td>\n",
       "      <td>1494</td>\n",
       "      <td>31.1</td>\n",
       "      <td>68.9</td>\n",
       "      <td>1494</td>\n",
       "    </tr>\n",
       "  </tbody>\n",
       "</table>\n",
       "</div>"
      ],
      "text/plain": [
       "          NAME  DP04_0001E  DP04_0002PE  DP04_0003PE  DP04_0006E\n",
       "0  ZCTA5 00775        1494         31.1         68.9        1494"
      ]
     },
     "execution_count": 16,
     "metadata": {},
     "output_type": "execute_result"
    }
   ],
   "source": [
    "%%bigquery\n",
    "select NAME, DP04_0001E, DP04_0002PE,\n",
    "DP04_0003PE, DP04_0006E\n",
    "from acs_2018_modeled.Housing_Unit_Status\n",
    "where NAME = 'ZCTA5 00775'\n",
    "limit 10"
   ]
  },
  {
   "cell_type": "markdown",
   "metadata": {},
   "source": [
    "##### -- Create Housing_Unit table"
   ]
  },
  {
   "cell_type": "code",
   "execution_count": 17,
   "metadata": {},
   "outputs": [
    {
     "data": {
      "text/html": [
       "<div>\n",
       "<style scoped>\n",
       "    .dataframe tbody tr th:only-of-type {\n",
       "        vertical-align: middle;\n",
       "    }\n",
       "\n",
       "    .dataframe tbody tr th {\n",
       "        vertical-align: top;\n",
       "    }\n",
       "\n",
       "    .dataframe thead th {\n",
       "        text-align: right;\n",
       "    }\n",
       "</style>\n",
       "<table border=\"1\" class=\"dataframe\">\n",
       "  <thead>\n",
       "    <tr style=\"text-align: right;\">\n",
       "      <th></th>\n",
       "    </tr>\n",
       "  </thead>\n",
       "  <tbody>\n",
       "  </tbody>\n",
       "</table>\n",
       "</div>"
      ],
      "text/plain": [
       "Empty DataFrame\n",
       "Columns: []\n",
       "Index: []"
      ]
     },
     "execution_count": 17,
     "metadata": {},
     "output_type": "execute_result"
    }
   ],
   "source": [
    "%%bigquery\n",
    "create table acs_2018_modeled.Housing_Unit as\n",
    "select distinct NAME, cast(replace(DP04_0007PE,\n",
    "'-', '0') as FLOAT64) as DP04_0007PE, cast(replace(\n",
    "DP04_0008PE, '-', '0') as FLOAT64) as DP04_0008PE,\n",
    "cast(replace(DP04_0009PE, '-', '0') as FLOAT64) as\n",
    "DP04_0009PE, cast(replace(DP04_0010PE, '-', '0') as\n",
    "FLOAT64) as DP04_0010PE, cast(replace(DP04_0011PE,\n",
    "'-', '0') as FLOAT64) as DP04_0011PE, cast(replace(\n",
    "DP04_0012PE, '-', '0') as FLOAT64) as DP04_0012PE,\n",
    "cast(replace(DP04_0013PE, '-', '0') as FLOAT64) as \n",
    "DP04_0013PE, cast(replace(DP04_0014PE, '-', '0') as \n",
    "FLOAT64) as DP04_0014PE, cast(replace(DP04_0015PE,\n",
    "'-', '0') as FLOAT64) as DP04_0015PE\n",
    "from acs_2018_staging.housing\n",
    "where NAME is not null"
   ]
  },
  {
   "cell_type": "code",
   "execution_count": 18,
   "metadata": {},
   "outputs": [
    {
     "data": {
      "text/html": [
       "<div>\n",
       "<style scoped>\n",
       "    .dataframe tbody tr th:only-of-type {\n",
       "        vertical-align: middle;\n",
       "    }\n",
       "\n",
       "    .dataframe tbody tr th {\n",
       "        vertical-align: top;\n",
       "    }\n",
       "\n",
       "    .dataframe thead th {\n",
       "        text-align: right;\n",
       "    }\n",
       "</style>\n",
       "<table border=\"1\" class=\"dataframe\">\n",
       "  <thead>\n",
       "    <tr style=\"text-align: right;\">\n",
       "      <th></th>\n",
       "      <th>NAME</th>\n",
       "      <th>DP04_0007PE</th>\n",
       "      <th>DP04_0008PE</th>\n",
       "      <th>DP04_0009PE</th>\n",
       "      <th>DP04_0010PE</th>\n",
       "      <th>DP04_0011PE</th>\n",
       "      <th>DP04_0012PE</th>\n",
       "      <th>DP04_0013PE</th>\n",
       "      <th>DP04_0014PE</th>\n",
       "      <th>DP04_0015PE</th>\n",
       "    </tr>\n",
       "  </thead>\n",
       "  <tbody>\n",
       "    <tr>\n",
       "      <th>0</th>\n",
       "      <td>ZCTA5 00775</td>\n",
       "      <td>58.3</td>\n",
       "      <td>16.1</td>\n",
       "      <td>2.5</td>\n",
       "      <td>15.7</td>\n",
       "      <td>1.9</td>\n",
       "      <td>0.3</td>\n",
       "      <td>3.5</td>\n",
       "      <td>1.7</td>\n",
       "      <td>0</td>\n",
       "    </tr>\n",
       "  </tbody>\n",
       "</table>\n",
       "</div>"
      ],
      "text/plain": [
       "          NAME DP04_0007PE DP04_0008PE DP04_0009PE DP04_0010PE DP04_0011PE  \\\n",
       "0  ZCTA5 00775        58.3        16.1         2.5        15.7         1.9   \n",
       "\n",
       "  DP04_0012PE DP04_0013PE DP04_0014PE DP04_0015PE  \n",
       "0         0.3         3.5         1.7           0  "
      ]
     },
     "execution_count": 18,
     "metadata": {},
     "output_type": "execute_result"
    }
   ],
   "source": [
    "%%bigquery\n",
    "select NAME, DP04_0007PE, DP04_0008PE, DP04_0009PE,\n",
    "DP04_0010PE, DP04_0011PE, DP04_0012PE, DP04_0013PE,\n",
    "DP04_0014PE, DP04_0015PE\n",
    "from acs_2018_staging.housing\n",
    "where NAME = 'ZCTA5 00775'\n",
    "limit 10"
   ]
  },
  {
   "cell_type": "code",
   "execution_count": 20,
   "metadata": {},
   "outputs": [
    {
     "data": {
      "text/html": [
       "<div>\n",
       "<style scoped>\n",
       "    .dataframe tbody tr th:only-of-type {\n",
       "        vertical-align: middle;\n",
       "    }\n",
       "\n",
       "    .dataframe tbody tr th {\n",
       "        vertical-align: top;\n",
       "    }\n",
       "\n",
       "    .dataframe thead th {\n",
       "        text-align: right;\n",
       "    }\n",
       "</style>\n",
       "<table border=\"1\" class=\"dataframe\">\n",
       "  <thead>\n",
       "    <tr style=\"text-align: right;\">\n",
       "      <th></th>\n",
       "      <th>NAME</th>\n",
       "      <th>DP04_0007PE</th>\n",
       "      <th>DP04_0008PE</th>\n",
       "      <th>DP04_0009PE</th>\n",
       "      <th>DP04_0010PE</th>\n",
       "      <th>DP04_0011PE</th>\n",
       "      <th>DP04_0012PE</th>\n",
       "      <th>DP04_0013PE</th>\n",
       "      <th>DP04_0014PE</th>\n",
       "      <th>DP04_0015PE</th>\n",
       "    </tr>\n",
       "  </thead>\n",
       "  <tbody>\n",
       "    <tr>\n",
       "      <th>0</th>\n",
       "      <td>ZCTA5 00775</td>\n",
       "      <td>58.3</td>\n",
       "      <td>16.1</td>\n",
       "      <td>2.5</td>\n",
       "      <td>15.7</td>\n",
       "      <td>1.9</td>\n",
       "      <td>0.3</td>\n",
       "      <td>3.5</td>\n",
       "      <td>1.7</td>\n",
       "      <td>0.0</td>\n",
       "    </tr>\n",
       "  </tbody>\n",
       "</table>\n",
       "</div>"
      ],
      "text/plain": [
       "          NAME  DP04_0007PE  DP04_0008PE  DP04_0009PE  DP04_0010PE  \\\n",
       "0  ZCTA5 00775         58.3         16.1          2.5         15.7   \n",
       "\n",
       "   DP04_0011PE  DP04_0012PE  DP04_0013PE  DP04_0014PE  DP04_0015PE  \n",
       "0          1.9          0.3          3.5          1.7          0.0  "
      ]
     },
     "execution_count": 20,
     "metadata": {},
     "output_type": "execute_result"
    }
   ],
   "source": [
    "%%bigquery\n",
    "select NAME, DP04_0007PE, DP04_0008PE, DP04_0009PE,\n",
    "DP04_0010PE, DP04_0011PE, DP04_0012PE, DP04_0013PE,\n",
    "DP04_0014PE, DP04_0015PE\n",
    "from acs_2018_modeled.Housing_Unit\n",
    "where NAME = 'ZCTA5 00775'\n",
    "limit 10"
   ]
  },
  {
   "cell_type": "markdown",
   "metadata": {},
   "source": [
    "##### -- Create Built_year table"
   ]
  },
  {
   "cell_type": "code",
   "execution_count": 21,
   "metadata": {},
   "outputs": [
    {
     "data": {
      "text/html": [
       "<div>\n",
       "<style scoped>\n",
       "    .dataframe tbody tr th:only-of-type {\n",
       "        vertical-align: middle;\n",
       "    }\n",
       "\n",
       "    .dataframe tbody tr th {\n",
       "        vertical-align: top;\n",
       "    }\n",
       "\n",
       "    .dataframe thead th {\n",
       "        text-align: right;\n",
       "    }\n",
       "</style>\n",
       "<table border=\"1\" class=\"dataframe\">\n",
       "  <thead>\n",
       "    <tr style=\"text-align: right;\">\n",
       "      <th></th>\n",
       "    </tr>\n",
       "  </thead>\n",
       "  <tbody>\n",
       "  </tbody>\n",
       "</table>\n",
       "</div>"
      ],
      "text/plain": [
       "Empty DataFrame\n",
       "Columns: []\n",
       "Index: []"
      ]
     },
     "execution_count": 21,
     "metadata": {},
     "output_type": "execute_result"
    }
   ],
   "source": [
    "%%bigquery\n",
    "create table acs_2018_modeled.Built_year as\n",
    "select distinct NAME, cast(replace(DP04_0017PE,\n",
    "'-', '0') as FLOAT64) as DP04_0017PE, cast(replace(\n",
    "DP04_0018PE, '-', '0') as FLOAT64) as DP04_0018PE,\n",
    "cast(replace(DP04_0019PE, '-', '0') as FLOAT64) as\n",
    "DP04_0019PE, cast(replace(DP04_0020PE, '-', '0') as\n",
    "FLOAT64) as DP04_0020PE, cast(replace(DP04_0021PE,\n",
    "'-', '0') as FLOAT64) as DP04_0021PE, cast(replace(\n",
    "DP04_0022PE, '-', '0') as FLOAT64) as DP04_0022PE,\n",
    "cast(replace(DP04_0023PE, '-', '0') as FLOAT64) as \n",
    "DP04_0023PE, cast(replace(DP04_0024PE, '-', '0') as \n",
    "FLOAT64) as DP04_0024PE, cast(replace(DP04_0025PE,\n",
    "'-', '0') as FLOAT64) as DP04_0025PE, cast(replace(\n",
    "DP04_0026PE,'-', '0') as FLOAT64) as DP04_0026PE\n",
    "from acs_2018_staging.housing\n",
    "where NAME is not null"
   ]
  },
  {
   "cell_type": "code",
   "execution_count": 22,
   "metadata": {},
   "outputs": [
    {
     "data": {
      "text/html": [
       "<div>\n",
       "<style scoped>\n",
       "    .dataframe tbody tr th:only-of-type {\n",
       "        vertical-align: middle;\n",
       "    }\n",
       "\n",
       "    .dataframe tbody tr th {\n",
       "        vertical-align: top;\n",
       "    }\n",
       "\n",
       "    .dataframe thead th {\n",
       "        text-align: right;\n",
       "    }\n",
       "</style>\n",
       "<table border=\"1\" class=\"dataframe\">\n",
       "  <thead>\n",
       "    <tr style=\"text-align: right;\">\n",
       "      <th></th>\n",
       "      <th>NAME</th>\n",
       "      <th>DP04_0017PE</th>\n",
       "      <th>DP04_0018PE</th>\n",
       "      <th>DP04_0019PE</th>\n",
       "      <th>DP04_0020PE</th>\n",
       "      <th>DP04_0021PE</th>\n",
       "      <th>DP04_0022PE</th>\n",
       "      <th>DP04_0023PE</th>\n",
       "      <th>DP04_0024PE</th>\n",
       "      <th>DP04_0025PE</th>\n",
       "      <th>DP04_0026PE</th>\n",
       "    </tr>\n",
       "  </thead>\n",
       "  <tbody>\n",
       "    <tr>\n",
       "      <th>0</th>\n",
       "      <td>ZCTA5 00775</td>\n",
       "      <td>0.6</td>\n",
       "      <td>3.7</td>\n",
       "      <td>30.9</td>\n",
       "      <td>28.4</td>\n",
       "      <td>10.2</td>\n",
       "      <td>12.6</td>\n",
       "      <td>10.2</td>\n",
       "      <td>1.8</td>\n",
       "      <td>1</td>\n",
       "      <td>0.5</td>\n",
       "    </tr>\n",
       "  </tbody>\n",
       "</table>\n",
       "</div>"
      ],
      "text/plain": [
       "          NAME DP04_0017PE DP04_0018PE DP04_0019PE DP04_0020PE DP04_0021PE  \\\n",
       "0  ZCTA5 00775         0.6         3.7        30.9        28.4        10.2   \n",
       "\n",
       "  DP04_0022PE DP04_0023PE DP04_0024PE DP04_0025PE DP04_0026PE  \n",
       "0        12.6        10.2         1.8           1         0.5  "
      ]
     },
     "execution_count": 22,
     "metadata": {},
     "output_type": "execute_result"
    }
   ],
   "source": [
    "%%bigquery\n",
    "select NAME, DP04_0017PE, DP04_0018PE, DP04_0019PE,\n",
    "DP04_0020PE, DP04_0021PE, DP04_0022PE, DP04_0023PE,\n",
    "DP04_0024PE, DP04_0025PE, DP04_0026PE\n",
    "from acs_2018_staging.housing\n",
    "where NAME = 'ZCTA5 00775'\n",
    "limit 10"
   ]
  },
  {
   "cell_type": "code",
   "execution_count": 23,
   "metadata": {},
   "outputs": [
    {
     "data": {
      "text/html": [
       "<div>\n",
       "<style scoped>\n",
       "    .dataframe tbody tr th:only-of-type {\n",
       "        vertical-align: middle;\n",
       "    }\n",
       "\n",
       "    .dataframe tbody tr th {\n",
       "        vertical-align: top;\n",
       "    }\n",
       "\n",
       "    .dataframe thead th {\n",
       "        text-align: right;\n",
       "    }\n",
       "</style>\n",
       "<table border=\"1\" class=\"dataframe\">\n",
       "  <thead>\n",
       "    <tr style=\"text-align: right;\">\n",
       "      <th></th>\n",
       "      <th>NAME</th>\n",
       "      <th>DP04_0017PE</th>\n",
       "      <th>DP04_0018PE</th>\n",
       "      <th>DP04_0019PE</th>\n",
       "      <th>DP04_0020PE</th>\n",
       "      <th>DP04_0021PE</th>\n",
       "      <th>DP04_0022PE</th>\n",
       "      <th>DP04_0023PE</th>\n",
       "      <th>DP04_0024PE</th>\n",
       "      <th>DP04_0025PE</th>\n",
       "      <th>DP04_0026PE</th>\n",
       "    </tr>\n",
       "  </thead>\n",
       "  <tbody>\n",
       "    <tr>\n",
       "      <th>0</th>\n",
       "      <td>ZCTA5 00775</td>\n",
       "      <td>0.6</td>\n",
       "      <td>3.7</td>\n",
       "      <td>30.9</td>\n",
       "      <td>28.4</td>\n",
       "      <td>10.2</td>\n",
       "      <td>12.6</td>\n",
       "      <td>10.2</td>\n",
       "      <td>1.8</td>\n",
       "      <td>1.0</td>\n",
       "      <td>0.5</td>\n",
       "    </tr>\n",
       "  </tbody>\n",
       "</table>\n",
       "</div>"
      ],
      "text/plain": [
       "          NAME  DP04_0017PE  DP04_0018PE  DP04_0019PE  DP04_0020PE  \\\n",
       "0  ZCTA5 00775          0.6          3.7         30.9         28.4   \n",
       "\n",
       "   DP04_0021PE  DP04_0022PE  DP04_0023PE  DP04_0024PE  DP04_0025PE  \\\n",
       "0         10.2         12.6         10.2          1.8          1.0   \n",
       "\n",
       "   DP04_0026PE  \n",
       "0          0.5  "
      ]
     },
     "execution_count": 23,
     "metadata": {},
     "output_type": "execute_result"
    }
   ],
   "source": [
    "%%bigquery\n",
    "select NAME, DP04_0017PE, DP04_0018PE, DP04_0019PE,\n",
    "DP04_0020PE, DP04_0021PE, DP04_0022PE, DP04_0023PE,\n",
    "DP04_0024PE, DP04_0025PE, DP04_0026PE\n",
    "from acs_2018_modeled.Built_year\n",
    "where NAME = 'ZCTA5 00775'\n",
    "limit 10"
   ]
  },
  {
   "cell_type": "markdown",
   "metadata": {},
   "source": [
    "##### -- Create Housing_Value table"
   ]
  },
  {
   "cell_type": "code",
   "execution_count": 24,
   "metadata": {},
   "outputs": [
    {
     "data": {
      "text/html": [
       "<div>\n",
       "<style scoped>\n",
       "    .dataframe tbody tr th:only-of-type {\n",
       "        vertical-align: middle;\n",
       "    }\n",
       "\n",
       "    .dataframe tbody tr th {\n",
       "        vertical-align: top;\n",
       "    }\n",
       "\n",
       "    .dataframe thead th {\n",
       "        text-align: right;\n",
       "    }\n",
       "</style>\n",
       "<table border=\"1\" class=\"dataframe\">\n",
       "  <thead>\n",
       "    <tr style=\"text-align: right;\">\n",
       "      <th></th>\n",
       "    </tr>\n",
       "  </thead>\n",
       "  <tbody>\n",
       "  </tbody>\n",
       "</table>\n",
       "</div>"
      ],
      "text/plain": [
       "Empty DataFrame\n",
       "Columns: []\n",
       "Index: []"
      ]
     },
     "execution_count": 24,
     "metadata": {},
     "output_type": "execute_result"
    }
   ],
   "source": [
    "%%bigquery\n",
    "create table acs_2018_modeled.Housing_Value as\n",
    "select distinct NAME, cast(replace(DP04_0081PE,\n",
    "'-', '0') as FLOAT64) as DP04_0081PE, cast(replace(\n",
    "DP04_0082PE, '-', '0') as FLOAT64) as DP04_0082PE,\n",
    "cast(replace(DP04_0083PE, '-', '0') as FLOAT64) as\n",
    "DP04_0083PE, cast(replace(DP04_0084PE, '-', '0') as\n",
    "FLOAT64) as DP04_0084PE, cast(replace(DP04_0085PE,\n",
    "'-', '0') as FLOAT64) as DP04_0085PE, cast(replace(\n",
    "DP04_0086PE, '-', '0') as FLOAT64) as DP04_0086PE,\n",
    "cast(replace(DP04_0087PE, '-', '0') as FLOAT64) as \n",
    "DP04_0087PE, cast(replace(DP04_0088PE, '-', '0') as \n",
    "FLOAT64) as DP04_0088PE\n",
    "from acs_2018_staging.housing\n",
    "where NAME is not null"
   ]
  },
  {
   "cell_type": "code",
   "execution_count": 25,
   "metadata": {},
   "outputs": [
    {
     "data": {
      "text/html": [
       "<div>\n",
       "<style scoped>\n",
       "    .dataframe tbody tr th:only-of-type {\n",
       "        vertical-align: middle;\n",
       "    }\n",
       "\n",
       "    .dataframe tbody tr th {\n",
       "        vertical-align: top;\n",
       "    }\n",
       "\n",
       "    .dataframe thead th {\n",
       "        text-align: right;\n",
       "    }\n",
       "</style>\n",
       "<table border=\"1\" class=\"dataframe\">\n",
       "  <thead>\n",
       "    <tr style=\"text-align: right;\">\n",
       "      <th></th>\n",
       "      <th>NAME</th>\n",
       "      <th>DP04_0081PE</th>\n",
       "      <th>DP04_0082PE</th>\n",
       "      <th>DP04_0083PE</th>\n",
       "      <th>DP04_0084PE</th>\n",
       "      <th>DP04_0085PE</th>\n",
       "      <th>DP04_0086PE</th>\n",
       "      <th>DP04_0087PE</th>\n",
       "      <th>DP04_0088PE</th>\n",
       "    </tr>\n",
       "  </thead>\n",
       "  <tbody>\n",
       "    <tr>\n",
       "      <th>0</th>\n",
       "      <td>ZCTA5 00775</td>\n",
       "      <td>13.2</td>\n",
       "      <td>31.4</td>\n",
       "      <td>9.8</td>\n",
       "      <td>12.5</td>\n",
       "      <td>17.2</td>\n",
       "      <td>9.1</td>\n",
       "      <td>2.4</td>\n",
       "      <td>4.4</td>\n",
       "    </tr>\n",
       "  </tbody>\n",
       "</table>\n",
       "</div>"
      ],
      "text/plain": [
       "          NAME DP04_0081PE DP04_0082PE DP04_0083PE DP04_0084PE DP04_0085PE  \\\n",
       "0  ZCTA5 00775        13.2        31.4         9.8        12.5        17.2   \n",
       "\n",
       "  DP04_0086PE DP04_0087PE DP04_0088PE  \n",
       "0         9.1         2.4         4.4  "
      ]
     },
     "execution_count": 25,
     "metadata": {},
     "output_type": "execute_result"
    }
   ],
   "source": [
    "%%bigquery\n",
    "select NAME, DP04_0081PE, DP04_0082PE, DP04_0083PE,\n",
    "DP04_0084PE, DP04_0085PE, DP04_0086PE, DP04_0087PE,\n",
    "DP04_0088PE\n",
    "from acs_2018_staging.housing\n",
    "where NAME = 'ZCTA5 00775'\n",
    "limit 10"
   ]
  },
  {
   "cell_type": "code",
   "execution_count": 26,
   "metadata": {},
   "outputs": [
    {
     "data": {
      "text/html": [
       "<div>\n",
       "<style scoped>\n",
       "    .dataframe tbody tr th:only-of-type {\n",
       "        vertical-align: middle;\n",
       "    }\n",
       "\n",
       "    .dataframe tbody tr th {\n",
       "        vertical-align: top;\n",
       "    }\n",
       "\n",
       "    .dataframe thead th {\n",
       "        text-align: right;\n",
       "    }\n",
       "</style>\n",
       "<table border=\"1\" class=\"dataframe\">\n",
       "  <thead>\n",
       "    <tr style=\"text-align: right;\">\n",
       "      <th></th>\n",
       "      <th>NAME</th>\n",
       "      <th>DP04_0081PE</th>\n",
       "      <th>DP04_0082PE</th>\n",
       "      <th>DP04_0083PE</th>\n",
       "      <th>DP04_0084PE</th>\n",
       "      <th>DP04_0085PE</th>\n",
       "      <th>DP04_0086PE</th>\n",
       "      <th>DP04_0087PE</th>\n",
       "      <th>DP04_0088PE</th>\n",
       "    </tr>\n",
       "  </thead>\n",
       "  <tbody>\n",
       "    <tr>\n",
       "      <th>0</th>\n",
       "      <td>ZCTA5 00775</td>\n",
       "      <td>13.2</td>\n",
       "      <td>31.4</td>\n",
       "      <td>9.8</td>\n",
       "      <td>12.5</td>\n",
       "      <td>17.2</td>\n",
       "      <td>9.1</td>\n",
       "      <td>2.4</td>\n",
       "      <td>4.4</td>\n",
       "    </tr>\n",
       "  </tbody>\n",
       "</table>\n",
       "</div>"
      ],
      "text/plain": [
       "          NAME  DP04_0081PE  DP04_0082PE  DP04_0083PE  DP04_0084PE  \\\n",
       "0  ZCTA5 00775         13.2         31.4          9.8         12.5   \n",
       "\n",
       "   DP04_0085PE  DP04_0086PE  DP04_0087PE  DP04_0088PE  \n",
       "0         17.2          9.1          2.4          4.4  "
      ]
     },
     "execution_count": 26,
     "metadata": {},
     "output_type": "execute_result"
    }
   ],
   "source": [
    "%%bigquery\n",
    "select NAME, DP04_0081PE, DP04_0082PE, DP04_0083PE,\n",
    "DP04_0084PE, DP04_0085PE, DP04_0086PE, DP04_0087PE,\n",
    "DP04_0088PE\n",
    "from acs_2018_modeled.Housing_Value\n",
    "where NAME = 'ZCTA5 00775'\n",
    "limit 10"
   ]
  },
  {
   "cell_type": "markdown",
   "metadata": {},
   "source": [
    "##### -- Create PrivatePublic_School_Enrollment table"
   ]
  },
  {
   "cell_type": "code",
   "execution_count": 1,
   "metadata": {},
   "outputs": [
    {
     "data": {
      "text/html": [
       "<div>\n",
       "<style scoped>\n",
       "    .dataframe tbody tr th:only-of-type {\n",
       "        vertical-align: middle;\n",
       "    }\n",
       "\n",
       "    .dataframe tbody tr th {\n",
       "        vertical-align: top;\n",
       "    }\n",
       "\n",
       "    .dataframe thead th {\n",
       "        text-align: right;\n",
       "    }\n",
       "</style>\n",
       "<table border=\"1\" class=\"dataframe\">\n",
       "  <thead>\n",
       "    <tr style=\"text-align: right;\">\n",
       "      <th></th>\n",
       "    </tr>\n",
       "  </thead>\n",
       "  <tbody>\n",
       "  </tbody>\n",
       "</table>\n",
       "</div>"
      ],
      "text/plain": [
       "Empty DataFrame\n",
       "Columns: []\n",
       "Index: []"
      ]
     },
     "execution_count": 1,
     "metadata": {},
     "output_type": "execute_result"
    }
   ],
   "source": [
    "%%bigquery\n",
    "create table acs_2018_modeled.PrivatePublic_School_Enrollment as\n",
    "select distinct NAME, S1401_C03_008E, S1401_C05_008E,\n",
    "S1401_C03_009E, S1401_C05_009E\n",
    "from acs_2018_staging.school_enrollment\n",
    "where NAME is not null"
   ]
  },
  {
   "cell_type": "code",
   "execution_count": 2,
   "metadata": {},
   "outputs": [
    {
     "data": {
      "text/html": [
       "<div>\n",
       "<style scoped>\n",
       "    .dataframe tbody tr th:only-of-type {\n",
       "        vertical-align: middle;\n",
       "    }\n",
       "\n",
       "    .dataframe tbody tr th {\n",
       "        vertical-align: top;\n",
       "    }\n",
       "\n",
       "    .dataframe thead th {\n",
       "        text-align: right;\n",
       "    }\n",
       "</style>\n",
       "<table border=\"1\" class=\"dataframe\">\n",
       "  <thead>\n",
       "    <tr style=\"text-align: right;\">\n",
       "      <th></th>\n",
       "      <th>NAME</th>\n",
       "      <th>S1401_C03_008E</th>\n",
       "      <th>S1401_C05_008E</th>\n",
       "      <th>S1401_C03_009E</th>\n",
       "      <th>S1401_C05_009E</th>\n",
       "    </tr>\n",
       "  </thead>\n",
       "  <tbody>\n",
       "    <tr>\n",
       "      <th>0</th>\n",
       "      <td>ZCTA5 00775</td>\n",
       "      <td>3</td>\n",
       "      <td>15</td>\n",
       "      <td>0</td>\n",
       "      <td>0</td>\n",
       "    </tr>\n",
       "  </tbody>\n",
       "</table>\n",
       "</div>"
      ],
      "text/plain": [
       "          NAME  S1401_C03_008E  S1401_C05_008E  S1401_C03_009E  S1401_C05_009E\n",
       "0  ZCTA5 00775               3              15               0               0"
      ]
     },
     "execution_count": 2,
     "metadata": {},
     "output_type": "execute_result"
    }
   ],
   "source": [
    "%%bigquery\n",
    "select NAME, S1401_C03_008E, S1401_C05_008E,\n",
    "S1401_C03_009E, S1401_C05_009E\n",
    "from acs_2018_staging.school_enrollment\n",
    "where NAME = 'ZCTA5 00775'\n",
    "limit 10"
   ]
  },
  {
   "cell_type": "code",
   "execution_count": 3,
   "metadata": {},
   "outputs": [
    {
     "data": {
      "text/html": [
       "<div>\n",
       "<style scoped>\n",
       "    .dataframe tbody tr th:only-of-type {\n",
       "        vertical-align: middle;\n",
       "    }\n",
       "\n",
       "    .dataframe tbody tr th {\n",
       "        vertical-align: top;\n",
       "    }\n",
       "\n",
       "    .dataframe thead th {\n",
       "        text-align: right;\n",
       "    }\n",
       "</style>\n",
       "<table border=\"1\" class=\"dataframe\">\n",
       "  <thead>\n",
       "    <tr style=\"text-align: right;\">\n",
       "      <th></th>\n",
       "      <th>NAME</th>\n",
       "      <th>S1401_C03_008E</th>\n",
       "      <th>S1401_C05_008E</th>\n",
       "      <th>S1401_C03_009E</th>\n",
       "      <th>S1401_C05_009E</th>\n",
       "    </tr>\n",
       "  </thead>\n",
       "  <tbody>\n",
       "    <tr>\n",
       "      <th>0</th>\n",
       "      <td>ZCTA5 00775</td>\n",
       "      <td>3</td>\n",
       "      <td>15</td>\n",
       "      <td>0</td>\n",
       "      <td>0</td>\n",
       "    </tr>\n",
       "  </tbody>\n",
       "</table>\n",
       "</div>"
      ],
      "text/plain": [
       "          NAME  S1401_C03_008E  S1401_C05_008E  S1401_C03_009E  S1401_C05_009E\n",
       "0  ZCTA5 00775               3              15               0               0"
      ]
     },
     "execution_count": 3,
     "metadata": {},
     "output_type": "execute_result"
    }
   ],
   "source": [
    "%%bigquery\n",
    "select NAME, S1401_C03_008E, S1401_C05_008E,\n",
    "S1401_C03_009E, S1401_C05_009E\n",
    "from acs_2018_modeled.PrivatePublic_School_Enrollment\n",
    "where NAME = 'ZCTA5 00775'\n",
    "limit 10"
   ]
  },
  {
   "cell_type": "markdown",
   "metadata": {},
   "source": [
    "##### -- Create General_School_Enrollment table"
   ]
  },
  {
   "cell_type": "code",
   "execution_count": 4,
   "metadata": {},
   "outputs": [
    {
     "data": {
      "text/html": [
       "<div>\n",
       "<style scoped>\n",
       "    .dataframe tbody tr th:only-of-type {\n",
       "        vertical-align: middle;\n",
       "    }\n",
       "\n",
       "    .dataframe tbody tr th {\n",
       "        vertical-align: top;\n",
       "    }\n",
       "\n",
       "    .dataframe thead th {\n",
       "        text-align: right;\n",
       "    }\n",
       "</style>\n",
       "<table border=\"1\" class=\"dataframe\">\n",
       "  <thead>\n",
       "    <tr style=\"text-align: right;\">\n",
       "      <th></th>\n",
       "    </tr>\n",
       "  </thead>\n",
       "  <tbody>\n",
       "  </tbody>\n",
       "</table>\n",
       "</div>"
      ],
      "text/plain": [
       "Empty DataFrame\n",
       "Columns: []\n",
       "Index: []"
      ]
     },
     "execution_count": 4,
     "metadata": {},
     "output_type": "execute_result"
    }
   ],
   "source": [
    "%%bigquery\n",
    "create table acs_2018_modeled.General_School_Enrollment as\n",
    "select distinct NAME, S1401_C01_004E, S1401_C01_005E, \n",
    "S1401_C01_006E, S1401_C01_007E, S1401_C01_008E,\n",
    "S1401_C01_009E\n",
    "from acs_2018_staging.school_enrollment\n",
    "where NAME is not null"
   ]
  },
  {
   "cell_type": "code",
   "execution_count": 5,
   "metadata": {},
   "outputs": [
    {
     "data": {
      "text/html": [
       "<div>\n",
       "<style scoped>\n",
       "    .dataframe tbody tr th:only-of-type {\n",
       "        vertical-align: middle;\n",
       "    }\n",
       "\n",
       "    .dataframe tbody tr th {\n",
       "        vertical-align: top;\n",
       "    }\n",
       "\n",
       "    .dataframe thead th {\n",
       "        text-align: right;\n",
       "    }\n",
       "</style>\n",
       "<table border=\"1\" class=\"dataframe\">\n",
       "  <thead>\n",
       "    <tr style=\"text-align: right;\">\n",
       "      <th></th>\n",
       "      <th>NAME</th>\n",
       "      <th>S1401_C01_004E</th>\n",
       "      <th>S1401_C01_005E</th>\n",
       "      <th>S1401_C01_006E</th>\n",
       "      <th>S1401_C01_007E</th>\n",
       "      <th>S1401_C01_008E</th>\n",
       "      <th>S1401_C01_009E</th>\n",
       "    </tr>\n",
       "  </thead>\n",
       "  <tbody>\n",
       "    <tr>\n",
       "      <th>0</th>\n",
       "      <td>ZCTA5 00775</td>\n",
       "      <td>15</td>\n",
       "      <td>72</td>\n",
       "      <td>81</td>\n",
       "      <td>52</td>\n",
       "      <td>18</td>\n",
       "      <td>0</td>\n",
       "    </tr>\n",
       "  </tbody>\n",
       "</table>\n",
       "</div>"
      ],
      "text/plain": [
       "          NAME  S1401_C01_004E  S1401_C01_005E  S1401_C01_006E  \\\n",
       "0  ZCTA5 00775              15              72              81   \n",
       "\n",
       "   S1401_C01_007E  S1401_C01_008E  S1401_C01_009E  \n",
       "0              52              18               0  "
      ]
     },
     "execution_count": 5,
     "metadata": {},
     "output_type": "execute_result"
    }
   ],
   "source": [
    "%%bigquery\n",
    "select NAME, S1401_C01_004E, S1401_C01_005E, \n",
    "S1401_C01_006E, S1401_C01_007E, S1401_C01_008E,\n",
    "S1401_C01_009E\n",
    "from acs_2018_staging.school_enrollment\n",
    "where NAME = 'ZCTA5 00775'\n",
    "limit 10"
   ]
  },
  {
   "cell_type": "code",
   "execution_count": 6,
   "metadata": {},
   "outputs": [
    {
     "data": {
      "text/html": [
       "<div>\n",
       "<style scoped>\n",
       "    .dataframe tbody tr th:only-of-type {\n",
       "        vertical-align: middle;\n",
       "    }\n",
       "\n",
       "    .dataframe tbody tr th {\n",
       "        vertical-align: top;\n",
       "    }\n",
       "\n",
       "    .dataframe thead th {\n",
       "        text-align: right;\n",
       "    }\n",
       "</style>\n",
       "<table border=\"1\" class=\"dataframe\">\n",
       "  <thead>\n",
       "    <tr style=\"text-align: right;\">\n",
       "      <th></th>\n",
       "      <th>NAME</th>\n",
       "      <th>S1401_C01_004E</th>\n",
       "      <th>S1401_C01_005E</th>\n",
       "      <th>S1401_C01_006E</th>\n",
       "      <th>S1401_C01_007E</th>\n",
       "      <th>S1401_C01_008E</th>\n",
       "      <th>S1401_C01_009E</th>\n",
       "    </tr>\n",
       "  </thead>\n",
       "  <tbody>\n",
       "    <tr>\n",
       "      <th>0</th>\n",
       "      <td>ZCTA5 00775</td>\n",
       "      <td>15</td>\n",
       "      <td>72</td>\n",
       "      <td>81</td>\n",
       "      <td>52</td>\n",
       "      <td>18</td>\n",
       "      <td>0</td>\n",
       "    </tr>\n",
       "  </tbody>\n",
       "</table>\n",
       "</div>"
      ],
      "text/plain": [
       "          NAME  S1401_C01_004E  S1401_C01_005E  S1401_C01_006E  \\\n",
       "0  ZCTA5 00775              15              72              81   \n",
       "\n",
       "   S1401_C01_007E  S1401_C01_008E  S1401_C01_009E  \n",
       "0              52              18               0  "
      ]
     },
     "execution_count": 6,
     "metadata": {},
     "output_type": "execute_result"
    }
   ],
   "source": [
    "%%bigquery\n",
    "select NAME, S1401_C01_004E, S1401_C01_005E, \n",
    "S1401_C01_006E, S1401_C01_007E, S1401_C01_008E,\n",
    "S1401_C01_009E\n",
    "from acs_2018_modeled.General_School_Enrollment\n",
    "where NAME = 'ZCTA5 00775'\n",
    "limit 10"
   ]
  },
  {
   "cell_type": "code",
   "execution_count": null,
   "metadata": {},
   "outputs": [],
   "source": []
  }
 ],
 "metadata": {
  "kernelspec": {
   "display_name": "Python 3",
   "language": "python",
   "name": "python3"
  },
  "language_info": {
   "codemirror_mode": {
    "name": "ipython",
    "version": 3
   },
   "file_extension": ".py",
   "mimetype": "text/x-python",
   "name": "python",
   "nbconvert_exporter": "python",
   "pygments_lexer": "ipython3",
   "version": "3.5.3"
  }
 },
 "nbformat": 4,
 "nbformat_minor": 4
}
